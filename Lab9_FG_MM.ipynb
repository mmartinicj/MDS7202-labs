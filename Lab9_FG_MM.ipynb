{
 "cells": [
  {
   "cell_type": "markdown",
   "metadata": {
    "cell_id": "b5c0d2440b3e4995a794ded565213150",
    "deepnote_cell_type": "markdown"
   },
   "source": [
    "<h1><center>Laboratorio 9: Optimización de modelos 💯</center></h1>\n",
    "\n",
    "<center><strong>MDS7202: Laboratorio de Programación Científica para Ciencia de Datos</strong></center>"
   ]
  },
  {
   "cell_type": "markdown",
   "metadata": {
    "cell_id": "bfb94b9656f145ad83e81b75d218cb70",
    "deepnote_cell_type": "markdown"
   },
   "source": [
    "### Cuerpo Docente:\n",
    "\n",
    "- Profesor: Ignacio Meza, Gabriel Iturra\n",
    "- Auxiliar: Sebastián Tinoco\n",
    "- Ayudante: Arturo Lazcano, Angelo Muñoz"
   ]
  },
  {
   "cell_type": "markdown",
   "metadata": {
    "cell_id": "b1b537fdd27c43909a49d3476ce64d91",
    "deepnote_cell_type": "markdown"
   },
   "source": [
    "### Equipo: SUPER IMPORTANTE - notebooks sin nombre no serán revisados\n",
    "\n",
    "- Nombre de alumno 1: FELIPE GALAZ GARCÍA\n",
    "- Nombre de alumno 2: MIRKO MARTINIC JARA\n"
   ]
  },
  {
   "cell_type": "markdown",
   "metadata": {
    "cell_id": "b7dbdd30ab544cb8a8afe00648a586ae",
    "deepnote_cell_type": "markdown"
   },
   "source": [
    "## Temas a tratar\n",
    "\n",
    "- Predicción de demanda usando `xgboost`\n",
    "- Búsqueda del modelo óptimo de clasificación usando `optuna`\n",
    "- Uso de pipelines.\n",
    "\n",
    "## Reglas:\n",
    "\n",
    "- **Grupos de 2 personas**\n",
    "- Cualquier duda fuera del horario de clases al foro. Mensajes al equipo docente serán respondidos por este medio.\n",
    "- Prohibidas las copias. \n",
    "- Pueden usar cualquer material del curso que estimen conveniente.\n",
    "\n",
    "### Objetivos principales del laboratorio\n",
    "\n",
    "- Optimizar modelos usando `optuna`\n",
    "- Recurrir a técnicas de *prunning*\n",
    "- Forzar el aprendizaje de relaciones entre variables mediante *constraints*\n",
    "- Fijar un pipeline con un modelo base que luego se irá optimizando.\n",
    "\n",
    "El laboratorio deberá ser desarrollado sin el uso indiscriminado de iteradores nativos de python (aka \"for\", \"while\"). La idea es que aprendan a exprimir al máximo las funciones optimizadas que nos entrega `pandas`, las cuales vale mencionar, son bastante más eficientes que los iteradores nativos sobre DataFrames."
   ]
  },
  {
   "cell_type": "markdown",
   "metadata": {
    "cell_id": "f38c8342f5164aa992a97488dd5590bf",
    "deepnote_cell_type": "markdown"
   },
   "source": [
    "### **Link de repositorio de GitHub:** `https://github.com/mmartinicj/MDS7202-labs`"
   ]
  },
  {
   "cell_type": "markdown",
   "metadata": {
    "cell_id": "f1c73babb7f74af588a4fa6ae14829e0",
    "deepnote_cell_type": "markdown"
   },
   "source": [
    "# Importamos librerias útiles"
   ]
  },
  {
   "cell_type": "code",
   "execution_count": 42,
   "metadata": {
    "cell_id": "51afe4d2df42442b9e5402ffece60ead",
    "deepnote_cell_type": "code",
    "deepnote_to_be_reexecuted": false,
    "execution_millis": 4957,
    "execution_start": 1699544354044,
    "source_hash": null
   },
   "outputs": [],
   "source": [
    "!pip install -qq xgboost optuna"
   ]
  },
  {
   "cell_type": "code",
   "execution_count": 43,
   "metadata": {},
   "outputs": [],
   "source": [
    "# Libreria Core del lab.\n",
    "import numpy as np\n",
    "import pandas as pd\n",
    "from sklearn.dummy import DummyRegressor\n",
    "from xgboost import XGBRegressor\n",
    "import pickle\n",
    "import optuna\n",
    "from optuna.samplers import TPESampler\n",
    "from optuna.integration import XGBoostPruningCallback\n",
    "\n",
    "# Pre-procesamiento\n",
    "from sklearn.model_selection import train_test_split \n",
    "from sklearn.pipeline import Pipeline\n",
    "from sklearn.preprocessing import FunctionTransformer\n",
    "from sklearn.compose import ColumnTransformer\n",
    "from sklearn.preprocessing import MinMaxScaler\n",
    "from sklearn.preprocessing import OneHotEncoder\n",
    "\n",
    "# Metricas de evaluación\n",
    "from sklearn.metrics import mean_absolute_error\n",
    "\n",
    "#Libreria para plotear\n",
    "import seaborn as sns\n",
    "from matplotlib import pyplot as plt\n",
    "from optuna.visualization import plot_optimization_history\n",
    "from optuna.visualization import plot_parallel_coordinate\n",
    "from optuna.visualization import plot_param_importances\n",
    "\n",
    "# librería para suprimir futureWarnings\n",
    "import warnings\n",
    "warnings.simplefilter(action='ignore', category=FutureWarning)"
   ]
  },
  {
   "cell_type": "markdown",
   "metadata": {
    "cell_id": "44d227389a734ac59189c5e0005bc68a",
    "deepnote_cell_type": "markdown"
   },
   "source": [
    "# 1. El emprendimiento de Fiu\n",
    "\n",
    "Tras liderar de manera exitosa la implementación de un proyecto de ciencia de datos para caracterizar los datos generados en Santiago 2023, el misterioso corpóreo **Fiu** se anima y decide levantar su propio negocio de consultoría en machine learning. Tras varias e intensas negociaciones, Fiu logra encontrar su *primera chamba*: predecir la demanda (cantidad de venta) de una famosa productora de bebidas de calibre mundial. Como usted tuvo un rendimiento sobresaliente en el proyecto de caracterización de datos, Fiu lo contrata como *data scientist* de su emprendimiento.\n",
    "\n",
    "Para este laboratorio deben trabajar con los datos `sales.csv` subidos a u-cursos, el cual contiene una muestra de ventas de la empresa para diferentes productos en un determinado tiempo.\n",
    "\n",
    "Para comenzar, cargue el dataset señalado y visualice a través de un `.head` los atributos que posee el dataset.\n",
    "\n",
    "<i><p align=\"center\">Fiu siendo felicitado por su excelente desempeño en el proyecto de caracterización de datos</p></i>\n",
    "<p align=\"center\">\n",
    "  <img src=\"https://media-front.elmostrador.cl/2023/09/A_UNO_1506411_2440e.jpg\">\n",
    "</p>"
   ]
  },
  {
   "cell_type": "code",
   "execution_count": 44,
   "metadata": {
    "cell_id": "2f9c82d204b14515ad27ae07e0b77702",
    "deepnote_cell_type": "code",
    "deepnote_to_be_reexecuted": false,
    "execution_millis": 92,
    "execution_start": 1699544359006,
    "source_hash": null
   },
   "outputs": [
    {
     "name": "stderr",
     "output_type": "stream",
     "text": [
      "C:\\Users\\mirko\\AppData\\Local\\Temp\\ipykernel_21184\\827143837.py:6: UserWarning:\n",
      "\n",
      "Could not infer format, so each element will be parsed individually, falling back to `dateutil`. To ensure parsing is consistent and as-expected, please specify a format.\n",
      "\n"
     ]
    },
    {
     "data": {
      "text/html": [
       "<div>\n",
       "<style scoped>\n",
       "    .dataframe tbody tr th:only-of-type {\n",
       "        vertical-align: middle;\n",
       "    }\n",
       "\n",
       "    .dataframe tbody tr th {\n",
       "        vertical-align: top;\n",
       "    }\n",
       "\n",
       "    .dataframe thead th {\n",
       "        text-align: right;\n",
       "    }\n",
       "</style>\n",
       "<table border=\"1\" class=\"dataframe\">\n",
       "  <thead>\n",
       "    <tr style=\"text-align: right;\">\n",
       "      <th></th>\n",
       "      <th>id</th>\n",
       "      <th>date</th>\n",
       "      <th>city</th>\n",
       "      <th>lat</th>\n",
       "      <th>long</th>\n",
       "      <th>pop</th>\n",
       "      <th>shop</th>\n",
       "      <th>brand</th>\n",
       "      <th>container</th>\n",
       "      <th>capacity</th>\n",
       "      <th>price</th>\n",
       "      <th>quantity</th>\n",
       "    </tr>\n",
       "  </thead>\n",
       "  <tbody>\n",
       "    <tr>\n",
       "      <th>0</th>\n",
       "      <td>0</td>\n",
       "      <td>2012-01-31</td>\n",
       "      <td>Athens</td>\n",
       "      <td>37.97945</td>\n",
       "      <td>23.71622</td>\n",
       "      <td>672130</td>\n",
       "      <td>shop_1</td>\n",
       "      <td>kinder-cola</td>\n",
       "      <td>glass</td>\n",
       "      <td>500ml</td>\n",
       "      <td>0.96</td>\n",
       "      <td>13280</td>\n",
       "    </tr>\n",
       "    <tr>\n",
       "      <th>1</th>\n",
       "      <td>1</td>\n",
       "      <td>2012-01-31</td>\n",
       "      <td>Athens</td>\n",
       "      <td>37.97945</td>\n",
       "      <td>23.71622</td>\n",
       "      <td>672130</td>\n",
       "      <td>shop_1</td>\n",
       "      <td>kinder-cola</td>\n",
       "      <td>plastic</td>\n",
       "      <td>1.5lt</td>\n",
       "      <td>2.86</td>\n",
       "      <td>6727</td>\n",
       "    </tr>\n",
       "    <tr>\n",
       "      <th>2</th>\n",
       "      <td>2</td>\n",
       "      <td>2012-01-31</td>\n",
       "      <td>Athens</td>\n",
       "      <td>37.97945</td>\n",
       "      <td>23.71622</td>\n",
       "      <td>672130</td>\n",
       "      <td>shop_1</td>\n",
       "      <td>kinder-cola</td>\n",
       "      <td>can</td>\n",
       "      <td>330ml</td>\n",
       "      <td>0.87</td>\n",
       "      <td>9848</td>\n",
       "    </tr>\n",
       "    <tr>\n",
       "      <th>3</th>\n",
       "      <td>3</td>\n",
       "      <td>2012-01-31</td>\n",
       "      <td>Athens</td>\n",
       "      <td>37.97945</td>\n",
       "      <td>23.71622</td>\n",
       "      <td>672130</td>\n",
       "      <td>shop_1</td>\n",
       "      <td>adult-cola</td>\n",
       "      <td>glass</td>\n",
       "      <td>500ml</td>\n",
       "      <td>1.00</td>\n",
       "      <td>20050</td>\n",
       "    </tr>\n",
       "    <tr>\n",
       "      <th>4</th>\n",
       "      <td>4</td>\n",
       "      <td>2012-01-31</td>\n",
       "      <td>Athens</td>\n",
       "      <td>37.97945</td>\n",
       "      <td>23.71622</td>\n",
       "      <td>672130</td>\n",
       "      <td>shop_1</td>\n",
       "      <td>adult-cola</td>\n",
       "      <td>can</td>\n",
       "      <td>330ml</td>\n",
       "      <td>0.39</td>\n",
       "      <td>25696</td>\n",
       "    </tr>\n",
       "  </tbody>\n",
       "</table>\n",
       "</div>"
      ],
      "text/plain": [
       "   id       date    city       lat      long     pop    shop        brand  \\\n",
       "0   0 2012-01-31  Athens  37.97945  23.71622  672130  shop_1  kinder-cola   \n",
       "1   1 2012-01-31  Athens  37.97945  23.71622  672130  shop_1  kinder-cola   \n",
       "2   2 2012-01-31  Athens  37.97945  23.71622  672130  shop_1  kinder-cola   \n",
       "3   3 2012-01-31  Athens  37.97945  23.71622  672130  shop_1   adult-cola   \n",
       "4   4 2012-01-31  Athens  37.97945  23.71622  672130  shop_1   adult-cola   \n",
       "\n",
       "  container capacity  price  quantity  \n",
       "0     glass    500ml   0.96     13280  \n",
       "1   plastic    1.5lt   2.86      6727  \n",
       "2       can    330ml   0.87      9848  \n",
       "3     glass    500ml   1.00     20050  \n",
       "4       can    330ml   0.39     25696  "
      ]
     },
     "execution_count": 44,
     "metadata": {},
     "output_type": "execute_result"
    }
   ],
   "source": [
    "import pandas as pd\n",
    "import numpy as np\n",
    "from datetime import datetime\n",
    "\n",
    "df = pd.read_csv('Lab_09/sales.csv')\n",
    "df['date'] = pd.to_datetime(df['date'])\n",
    "\n",
    "df.head()"
   ]
  },
  {
   "cell_type": "markdown",
   "metadata": {
    "cell_id": "b50db6f2cb804932ae3f9e5748a6ea61",
    "deepnote_cell_type": "markdown"
   },
   "source": [
    "## 1.1 Generando un Baseline (0.5 puntos)\n",
    "\n",
    "<p align=\"center\">\n",
    "  <img src=\"https://media.tenor.com/O-lan6TkadUAAAAC/what-i-wnna-do-after-a-baseline.gif\">\n",
    "</p>\n",
    "\n",
    "Antes de entrenar un algoritmo, usted recuerda los apuntes de su magíster en ciencia de datos y recuerda que debe seguir una serie de *buenas prácticas* para entrenar correcta y debidamente su modelo. Después de un par de vueltas, llega a las siguientes tareas:\n",
    "\n",
    "1. [X] Separe los datos en conjuntos de train (70%), validation (20%) y test (10%). Fije una semilla para controlar la aleatoriedad.\n",
    "2. [X] Implemente un `FunctionTransformer` para extraer el día, mes y año de la variable `date`. Guarde estas variables en el formato categorical de pandas.\n",
    "3. [X] Implemente un `ColumnTransformer` para procesar de manera adecuada los datos numéricos y categóricos. Use `OneHotEncoder` para las variables categóricas.\n",
    "4. [X] Guarde los pasos anteriores en un `Pipeline`, dejando como último paso el regresor `DummyRegressor` para generar predicciones en base a promedios.\n",
    "5. [X] Entrene el pipeline anterior y reporte la métrica `mean_absolute_error` sobre los datos de validación. ¿Cómo se interpreta esta métrica para el contexto del negocio?\n",
    "6. [X] Finalmente, vuelva a entrenar el `Pipeline` pero esta vez usando `XGBRegressor` como modelo **utilizando los parámetros por default**. ¿Cómo cambia el MAE al implementar este algoritmo? ¿Es mejor o peor que el `DummyRegressor`?\n",
    "7. [X] Guarde ambos modelos en un archivo .pkl (uno cada uno)"
   ]
  },
  {
   "cell_type": "code",
   "execution_count": 45,
   "metadata": {},
   "outputs": [
    {
     "data": {
      "text/html": [
       "<div>\n",
       "<style scoped>\n",
       "    .dataframe tbody tr th:only-of-type {\n",
       "        vertical-align: middle;\n",
       "    }\n",
       "\n",
       "    .dataframe tbody tr th {\n",
       "        vertical-align: top;\n",
       "    }\n",
       "\n",
       "    .dataframe thead th {\n",
       "        text-align: right;\n",
       "    }\n",
       "</style>\n",
       "<table border=\"1\" class=\"dataframe\">\n",
       "  <thead>\n",
       "    <tr style=\"text-align: right;\">\n",
       "      <th></th>\n",
       "      <th>count</th>\n",
       "      <th>mean</th>\n",
       "      <th>min</th>\n",
       "      <th>25%</th>\n",
       "      <th>50%</th>\n",
       "      <th>75%</th>\n",
       "      <th>max</th>\n",
       "      <th>std</th>\n",
       "    </tr>\n",
       "  </thead>\n",
       "  <tbody>\n",
       "    <tr>\n",
       "      <th>id</th>\n",
       "      <td>7456.0</td>\n",
       "      <td>3784.92677</td>\n",
       "      <td>0.0</td>\n",
       "      <td>1889.75</td>\n",
       "      <td>3783.5</td>\n",
       "      <td>5682.25</td>\n",
       "      <td>7559.0</td>\n",
       "      <td>2185.822361</td>\n",
       "    </tr>\n",
       "    <tr>\n",
       "      <th>date</th>\n",
       "      <td>7456</td>\n",
       "      <td>2015-07-18 02:48:24.721029888</td>\n",
       "      <td>2012-01-31 00:00:00</td>\n",
       "      <td>2013-10-23 06:00:00</td>\n",
       "      <td>2015-07-31 00:00:00</td>\n",
       "      <td>2017-04-30 00:00:00</td>\n",
       "      <td>2018-12-31 00:00:00</td>\n",
       "      <td>NaN</td>\n",
       "    </tr>\n",
       "    <tr>\n",
       "      <th>lat</th>\n",
       "      <td>7456.0</td>\n",
       "      <td>38.300616</td>\n",
       "      <td>35.32787</td>\n",
       "      <td>37.96245</td>\n",
       "      <td>38.24444</td>\n",
       "      <td>39.63689</td>\n",
       "      <td>40.64361</td>\n",
       "      <td>1.65003</td>\n",
       "    </tr>\n",
       "    <tr>\n",
       "      <th>long</th>\n",
       "      <td>7456.0</td>\n",
       "      <td>23.27017</td>\n",
       "      <td>21.73444</td>\n",
       "      <td>22.41761</td>\n",
       "      <td>22.93086</td>\n",
       "      <td>23.71622</td>\n",
       "      <td>25.14341</td>\n",
       "      <td>1.086592</td>\n",
       "    </tr>\n",
       "    <tr>\n",
       "      <th>pop</th>\n",
       "      <td>7456.0</td>\n",
       "      <td>355042.733637</td>\n",
       "      <td>134219.0</td>\n",
       "      <td>141732.0</td>\n",
       "      <td>257501.5</td>\n",
       "      <td>665102.0</td>\n",
       "      <td>672130.0</td>\n",
       "      <td>232336.70302</td>\n",
       "    </tr>\n",
       "    <tr>\n",
       "      <th>price</th>\n",
       "      <td>7456.0</td>\n",
       "      <td>1.197193</td>\n",
       "      <td>0.11</td>\n",
       "      <td>0.62</td>\n",
       "      <td>0.93</td>\n",
       "      <td>1.51</td>\n",
       "      <td>4.79</td>\n",
       "      <td>0.818175</td>\n",
       "    </tr>\n",
       "    <tr>\n",
       "      <th>quantity</th>\n",
       "      <td>7456.0</td>\n",
       "      <td>29408.42838</td>\n",
       "      <td>2953.0</td>\n",
       "      <td>16572.75</td>\n",
       "      <td>25294.5</td>\n",
       "      <td>37699.0</td>\n",
       "      <td>145287.0</td>\n",
       "      <td>17652.985675</td>\n",
       "    </tr>\n",
       "  </tbody>\n",
       "</table>\n",
       "</div>"
      ],
      "text/plain": [
       "           count                           mean                  min  \\\n",
       "id        7456.0                     3784.92677                  0.0   \n",
       "date        7456  2015-07-18 02:48:24.721029888  2012-01-31 00:00:00   \n",
       "lat       7456.0                      38.300616             35.32787   \n",
       "long      7456.0                       23.27017             21.73444   \n",
       "pop       7456.0                  355042.733637             134219.0   \n",
       "price     7456.0                       1.197193                 0.11   \n",
       "quantity  7456.0                    29408.42838               2953.0   \n",
       "\n",
       "                          25%                  50%                  75%  \\\n",
       "id                    1889.75               3783.5              5682.25   \n",
       "date      2013-10-23 06:00:00  2015-07-31 00:00:00  2017-04-30 00:00:00   \n",
       "lat                  37.96245             38.24444             39.63689   \n",
       "long                 22.41761             22.93086             23.71622   \n",
       "pop                  141732.0             257501.5             665102.0   \n",
       "price                    0.62                 0.93                 1.51   \n",
       "quantity             16572.75              25294.5              37699.0   \n",
       "\n",
       "                          max           std  \n",
       "id                     7559.0   2185.822361  \n",
       "date      2018-12-31 00:00:00           NaN  \n",
       "lat                  40.64361       1.65003  \n",
       "long                 25.14341      1.086592  \n",
       "pop                  672130.0  232336.70302  \n",
       "price                    4.79      0.818175  \n",
       "quantity             145287.0  17652.985675  "
      ]
     },
     "metadata": {},
     "output_type": "display_data"
    },
    {
     "data": {
      "image/png": "[encoded data removed]",
      "text/plain": [
       "<Figure size 2000x500 with 5 Axes>"
      ]
     },
     "metadata": {},
     "output_type": "display_data"
    },
    {
     "data": {
      "image/png": "[encoded data removed]",
      "text/plain": [
       "<Figure size 640x480 with 2 Axes>"
      ]
     },
     "metadata": {},
     "output_type": "display_data"
    },
    {
     "data": {
      "text/html": [
       "<div>\n",
       "<style scoped>\n",
       "    .dataframe tbody tr th:only-of-type {\n",
       "        vertical-align: middle;\n",
       "    }\n",
       "\n",
       "    .dataframe tbody tr th {\n",
       "        vertical-align: top;\n",
       "    }\n",
       "\n",
       "    .dataframe thead th {\n",
       "        text-align: right;\n",
       "    }\n",
       "</style>\n",
       "<table border=\"1\" class=\"dataframe\">\n",
       "  <thead>\n",
       "    <tr style=\"text-align: right;\">\n",
       "      <th></th>\n",
       "      <th>count</th>\n",
       "      <th>unique</th>\n",
       "      <th>top</th>\n",
       "      <th>freq</th>\n",
       "    </tr>\n",
       "  </thead>\n",
       "  <tbody>\n",
       "    <tr>\n",
       "      <th>city</th>\n",
       "      <td>7456</td>\n",
       "      <td>5</td>\n",
       "      <td>Athens</td>\n",
       "      <td>2482</td>\n",
       "    </tr>\n",
       "    <tr>\n",
       "      <th>shop</th>\n",
       "      <td>7456</td>\n",
       "      <td>6</td>\n",
       "      <td>shop_4</td>\n",
       "      <td>1246</td>\n",
       "    </tr>\n",
       "    <tr>\n",
       "      <th>brand</th>\n",
       "      <td>7456</td>\n",
       "      <td>5</td>\n",
       "      <td>kinder-cola</td>\n",
       "      <td>1495</td>\n",
       "    </tr>\n",
       "    <tr>\n",
       "      <th>container</th>\n",
       "      <td>7456</td>\n",
       "      <td>3</td>\n",
       "      <td>glass</td>\n",
       "      <td>2486</td>\n",
       "    </tr>\n",
       "    <tr>\n",
       "      <th>capacity</th>\n",
       "      <td>7456</td>\n",
       "      <td>3</td>\n",
       "      <td>330ml</td>\n",
       "      <td>2486</td>\n",
       "    </tr>\n",
       "  </tbody>\n",
       "</table>\n",
       "</div>"
      ],
      "text/plain": [
       "          count unique          top  freq\n",
       "city       7456      5       Athens  2482\n",
       "shop       7456      6       shop_4  1246\n",
       "brand      7456      5  kinder-cola  1495\n",
       "container  7456      3        glass  2486\n",
       "capacity   7456      3        330ml  2486"
      ]
     },
     "metadata": {},
     "output_type": "display_data"
    }
   ],
   "source": [
    "# EDA preliminar\n",
    "\n",
    "# descripcion atributos numericos\n",
    "display(df.describe().T)\n",
    "\n",
    "# distribucion atributos numericos\n",
    "plt.figure(figsize=(20,5))\n",
    "plt.subplot(1,5,1)\n",
    "df['lat'].hist()\n",
    "plt.title('lat', fontsize=20)\n",
    "plt.subplot(1,5,2)\n",
    "df['long'].hist()\n",
    "plt.title('long', fontsize=20)\n",
    "plt.subplot(1,5,3)\n",
    "df['pop'].hist()\n",
    "plt.title('pop', fontsize=20)\n",
    "plt.subplot(1,5,4)\n",
    "df['price'].hist()\n",
    "plt.title('price', fontsize=20)\n",
    "plt.subplot(1,5,5)\n",
    "df['quantity'].hist()\n",
    "plt.title('quantity', fontsize=20)\n",
    "plt.tight_layout()\n",
    "plt.show() ;\n",
    "\n",
    "# matriz de correlacion atributos numericos\n",
    "mat = df.corr(numeric_only=True)\n",
    "sns.heatmap(mat[mat!=1], annot=True, vmin=-1, vmax=1, fmt=\".1f\", linewidth=.5, cmap='coolwarm')\n",
    "plt.show() ;\n",
    "\n",
    "# descripcion atributos categoricos\n",
    "display(df.describe(include=['O']).T)"
   ]
  },
  {
   "cell_type": "code",
   "execution_count": 46,
   "metadata": {
    "cell_id": "1482c992d9494e5582b23dbd3431dbfd",
    "deepnote_cell_type": "code"
   },
   "outputs": [
    {
     "name": "stdout",
     "output_type": "stream",
     "text": [
      "MAE DummyRegressor : 13255\n",
      "MAE XGBRegressor : 2643\n"
     ]
    }
   ],
   "source": [
    "# Inserte su código acá\n",
    "\n",
    "# En virtud del EDA expuesto en el bloque de codigo anterior, se consideran como atributos numericos las columnas\n",
    "# 'pop' y 'price', mientras que como atributos categoricos las columnas 'city', 'lat', 'pop', 'shop', 'brand', \n",
    "# 'container', 'capacity', 'day', 'month' y 'year', donde estas ultimas tres columnas se obtienen\n",
    "# luego de aplicar el FunctionTransformer al dataset. \n",
    "# Cabe señalar que se descartan las columnas 'id' y 'long', pues, la primera constituye un atributo identificador,\n",
    "# mientras que para la segunda se reconoce multicolinealidad con la columna 'lat'\n",
    "\n",
    "# 1.\n",
    "X = df.drop('quantity', axis=1)\n",
    "y = df.quantity\n",
    "X_train, X_test, y_train, y_test = train_test_split(X, y, test_size=1-.7, random_state=123)\n",
    "X_val, X_test, y_val, y_test = train_test_split(X_test, y_test, test_size=.1/(.1+.2), random_state=123) \n",
    "\n",
    "# 2.\n",
    "def extract_from_date(dataframe_in) :\n",
    "    dataframe_out = dataframe_in.copy()\n",
    "    dataframe_out['day'] = dataframe_out['date'].dt.day.astype('category')\n",
    "    dataframe_out['month'] = dataframe_out['date'].dt.month.astype('category')\n",
    "    dataframe_out['year'] = dataframe_out['date'].dt.year.astype('category')\n",
    "    dataframe_out = dataframe_out.drop('date', axis=1)\n",
    "    return dataframe_out\n",
    "ft = FunctionTransformer(extract_from_date)\n",
    "\n",
    "# 3. \n",
    "# Para los atributos numericos, se aplica una transformacion logaritmica (dada la forma de la distribucion\n",
    "# observada para la columna 'price') y, luego, un escalamiento MinMax\n",
    "cat_cols = ['city', 'lat', 'pop', 'shop', 'brand', 'container', 'capacity', 'day', 'month', 'year']\n",
    "num_cols = ['pop', 'price']\n",
    "ct = ColumnTransformer(\n",
    "    transformers=[\n",
    "        ('cat_preprocess', OneHotEncoder(), cat_cols),\n",
    "        ('num_preprocess', Pipeline(steps=[(\"num_preprocess1\", FunctionTransformer(np.log10)),\n",
    "                                           ('num_preprocess2', MinMaxScaler())]), num_cols)\n",
    "    ], remainder='drop'\n",
    ")\n",
    "\n",
    "# 4.\n",
    "pipe = Pipeline([('trf1', ft), ('trf2', ct), ('trf3', DummyRegressor(strategy='mean'))])\n",
    "\n",
    "# 5.\n",
    "model_1 = pipe.fit(X_train, y_train)\n",
    "y_pred = model_1.predict(X_val)\n",
    "mae_model_1 = mean_absolute_error(y_val, y_pred)\n",
    "print(f'MAE DummyRegressor : {mae_model_1:.0f}')\n",
    "\n",
    "# 6.\n",
    "pipe = Pipeline([('trf1', ft), ('trf2', ct), ('trf3', XGBRegressor(seed=123))])\n",
    "model_2 = pipe.fit(X_train, y_train)\n",
    "y_pred = model_2.predict(X_val)\n",
    "mae_model_2 = mean_absolute_error(y_val, y_pred)\n",
    "print(f'MAE XGBRegressor : {mae_model_2:.0f}')\n",
    "\n",
    "# 7.\n",
    "pickle.dump(model_1, open('Lab_09/model_1.pkl', 'wb'))\n",
    "pickle.dump(model_2, open('Lab_09/model_2.pkl', 'wb'))"
   ]
  },
  {
   "cell_type": "markdown",
   "metadata": {},
   "source": [
    "En relación a las preguntas de esta sección:\n",
    "\n",
    "> ¿Cómo se interpreta esta métrica para el contexto del negocio?\n",
    "\n",
    "**R.** La métrica `mean_absolute_error` constituye una medida de la diferencia entre dos variables continuas, vale decir, la diferencia entre el `quantity` predicho por el modelo inicial `DummyRegressor` y el `quantity` observado en el conjunto de validación. Así, mientras mayor sea el valor de la métrica, menor será la precisión y/o desempeño del modelo implementado para la predicción de la variable objetivo.\n",
    "\n",
    "> ¿Cómo cambia el MAE al implementar este algoritmo? ¿Es mejor o peor que el `DummyRegressor`?\n",
    "\n",
    "**R.** Al implementar el algoritmo `XGBRegressor`, se observa una disminución sustancial del `mean_absolute_error` respecto a aquel obtenito con el modelo inicial `DummyRegressor` (*i.e.* una reducción de 13255 a 2643 unidades de producto), por lo cual, es posible sostener que `XGBRegressor` se desempeña mejor que `DummyRegressor` para la predicción de `quantity`."
   ]
  },
  {
   "cell_type": "markdown",
   "metadata": {
    "cell_id": "7e17e46063774ec28226fe300d42ffe0",
    "deepnote_cell_type": "markdown"
   },
   "source": [
    "## 1.2 Forzando relaciones entre parámetros con XGBoost (1.0 puntos)\n",
    "\n",
    "<p align=\"center\">\n",
    "  <img src=\"https://64.media.tumblr.com/14cc45f9610a6ee341a45fd0d68f4dde/20d11b36022bca7b-bf/s640x960/67ab1db12ff73a530f649ac455c000945d99c0d6.gif\">\n",
    "</p>\n",
    "\n",
    "Un colega aficionado a la economía le *sopla* que la demanda guarda una relación inversa con el precio del producto. Motivado para impresionar al querido corpóreo, se propone hacer uso de esta información para mejorar su modelo.\n",
    "\n",
    "Vuelva a entrenar el `Pipeline`, pero esta vez forzando una relación monótona negativa entre el precio y la cantidad. Luego, vuelva a reportar el `MAE` sobre el conjunto de validación. ¿Cómo cambia el error al incluir esta relación? ¿Tenía razón su amigo?\n",
    "\n",
    "Nuevamente, guarde su modelo en un archivo .pkl\n",
    "\n",
    "Nota: Para realizar esta parte, debe apoyarse en la siguiente <a href = https://xgboost.readthedocs.io/en/stable/tutorials/monotonic.html>documentación</a>.\n",
    "\n",
    "Hint: Para implementar el constraint, se le sugiere hacerlo especificando el nombre de la variable. De ser así, probablemente le sea útil **mantener el formato de pandas** antes del step de entrenamiento."
   ]
  },
  {
   "cell_type": "code",
   "execution_count": 47,
   "metadata": {
    "cell_id": "f469f3b572be434191d2d5c3f11b20d2",
    "deepnote_cell_type": "code"
   },
   "outputs": [
    {
     "name": "stdout",
     "output_type": "stream",
     "text": [
      "MAE XGBRegressor with Constraint: 2767\n"
     ]
    }
   ],
   "source": [
    "# Inserte su código acá\n",
    "\n",
    "# generamos la restriccion para el ultimo atributo (price)\n",
    "constraint =  [0 for i in range(Pipeline([('trf1', ft), ('trf2', ct)]).fit_transform(X_train).shape[1])]\n",
    "constraint[-1] = -1\n",
    "\n",
    "# generamos pipeline y ajustamos el modelo\n",
    "pipe = Pipeline([('trf1', ft), ('trf2', ct), ('trf3', XGBRegressor(seed=123, monotone_constraints=tuple(constraint)))])\n",
    "model_3 = pipe.fit(X_train, y_train)\n",
    "y_pred = model_3.predict(X_val)\n",
    "mae_model_3 = mean_absolute_error(y_val, y_pred)\n",
    "print(f'MAE XGBRegressor with Constraint: {mae_model_3:.0f}')\n",
    "\n",
    "# guardamos el modelo\n",
    "pickle.dump(model_3, open('Lab_09/model_3.pkl', 'wb'))"
   ]
  },
  {
   "cell_type": "markdown",
   "metadata": {},
   "source": [
    "En relación a la pregunta de esta sección:\n",
    "\n",
    "> ¿Cómo cambia el error al incluir esta relación? ¿Tenía razón su amigo?\n",
    "\n",
    "**R.** Al incluir la relación monótona negativa entre `price` y `quantity`, se observa un incremento del error de 124 unidades de producto respecto al algoritmo `XGBRegressor` con los parámetros por default (*i.e.* el `mean_absolute_error` aumenta de 2643 a 2767 unidades de producto). Así, podría sostenerse que el amigo no tenía razón, sin embargo, su información es parcialmente correcta puesto que, como se observa en la gráfica siguiente, sí existe una relación inversa entre el precio y la cantidad de producto, aunque la relación no es monótona, sino que se trata de una relación no lineal, por lo que, imponer la restricción monótona conduce a un modelo con menor precisión."
   ]
  },
  {
   "cell_type": "code",
   "execution_count": 48,
   "metadata": {},
   "outputs": [
    {
     "data": {
      "image/png": "[encoded data removed]",
      "text/plain": [
       "<Figure size 2000x500 with 1 Axes>"
      ]
     },
     "metadata": {},
     "output_type": "display_data"
    }
   ],
   "source": [
    "plt.figure(figsize=(20,5))\n",
    "plt.plot(X_val.price, y_val, 'o', markersize=8, markeredgewidth=.5, markeredgecolor='black', alpha=.5)\n",
    "plt.xlabel('price', fontsize=20)\n",
    "plt.ylabel('quantity', fontsize=20)\n",
    "plt.show() ;"
   ]
  },
  {
   "cell_type": "markdown",
   "metadata": {
    "cell_id": "e59ef80ed20b4de8921f24da74e87374",
    "deepnote_cell_type": "markdown"
   },
   "source": [
    "## 1.3 Optimización de Hiperparámetros con Optuna (2.0 puntos)\n",
    "\n",
    "<p align=\"center\">\n",
    "  <img src=\"https://media.tenor.com/fmNdyGN4z5kAAAAi/hacking-lucy.gif\">\n",
    "</p>\n",
    "\n",
    "Luego de presentarle sus resultados, Fiu le pregunta si es posible mejorar *aun más* su modelo. En particular, le comenta de la optimización de hiperparámetros con metodologías bayesianas a través del paquete `optuna`. Como usted es un aficionado al entrenamiento de modelos de ML, se propone implementar la descabellada idea de su jefe.\n",
    "\n",
    "A partir de la mejor configuración obtenida en la sección anterior, utilice `optuna` para optimizar sus hiperparámetros. En particular, se le pide:\n",
    "\n",
    "- [X] Fijar una semilla en las instancias necesarias para garantizar la reproducibilidad de resultados\n",
    "- [X] Utilice `TPESampler` como método de muestreo\n",
    "- [X] De `XGBRegressor`, optimice los siguientes hiperparámetros:\n",
    "    - `learning_rate` buscando valores flotantes en el rango (0.001, 0.1)\n",
    "    - `n_estimators` buscando valores enteros en el rango (50, 1000)\n",
    "    - `max_depth` buscando valores enteros en el rango (3, 10)\n",
    "    - `max_leaves` buscando valores enteros en el rango (0, 100)\n",
    "    - `min_child_weight` buscando valores enteros en el rango (1, 5)\n",
    "    - `reg_alpha` buscando valores flotantes en el rango (0, 1)\n",
    "    - `reg_lambda` buscando valores flotantes en el rango (0, 1)\n",
    "- [X] De `OneHotEncoder`, optimice el hiperparámetro `min_frequency` buscando el mejor valor flotante en el rango (0.0, 1.0)\n",
    "- [X] Explique cada hiperparámetro y su rol en el modelo. ¿Hacen sentido los rangos de optimización indicados?\n",
    "- [X] Fije el tiempo de entrenamiento a 5 minutos\n",
    "- [X] Reportar el número de *trials*, el `MAE` y los mejores hiperparámetros encontrados. ¿Cómo cambian sus resultados con respecto a la sección anterior? ¿A qué se puede deber esto?\n",
    "- [X] Guardar su modelo en un archivo .pkl"
   ]
  },
  {
   "cell_type": "code",
   "execution_count": 49,
   "metadata": {
    "cell_id": "de5914621cc64cb0b1bacb9ff565a97e",
    "deepnote_cell_type": "code"
   },
   "outputs": [
    {
     "name": "stderr",
     "output_type": "stream",
     "text": [
      "Best trial: 288. Best value: 2050.1:  100%|██████████| 05:00/05:00 \n"
     ]
    },
    {
     "name": "stdout",
     "output_type": "stream",
     "text": [
      "Número de trials: 293\n",
      "\n",
      "Mejor trial:\n",
      "\n",
      "- MAE = 2050\n",
      "\n",
      "- Params: \n",
      "    learning_rate      = 0.08415095986329704\n",
      "    n_estimators       = 828\n",
      "    max_depth          = 7\n",
      "    max_leaves         = 72\n",
      "    min_child_weight   = 5\n",
      "    reg_alpha          = 0.23578117266558885\n",
      "    reg_lambda         = 0.00040964650644359\n",
      "    min_frequency      = 0.05763676612268369\n"
     ]
    }
   ],
   "source": [
    "# Inserte su código acá\n",
    "\n",
    "# definimos la funcion objetivo\n",
    "def objective(trial):\n",
    "    \n",
    "    # definimos parametros a optimizar para XGBRegressor\n",
    "    params_XGBRegressor = {\n",
    "        'learning_rate': trial.suggest_float('learning_rate', 0.001, 0.1, log=True),\n",
    "        'n_estimators': trial.suggest_int('n_estimators', 50, 1000),\n",
    "        'max_depth': trial.suggest_int('max_depth', 3, 10),\n",
    "        'max_leaves': trial.suggest_int('max_leaves', 0, 100),\n",
    "        'min_child_weight': trial.suggest_int('min_child_weight', 1, 5),\n",
    "        'reg_alpha': trial.suggest_float('reg_alpha', 1e-8, 1.0, log=True),\n",
    "        'reg_lambda': trial.suggest_float('reg_lambda', 1e-8, 1.0, log=True)\n",
    "    }\n",
    "    \n",
    "    # definimos parametros a optimizar para OneHotEncoder\n",
    "    params_OneHotEncoder = {\n",
    "        'min_frequency': trial.suggest_float('min_frequency', 1e-8, 1.0, log=True)\n",
    "    }\n",
    "\n",
    "    # generamos pipeline y ajustamos el modelo\n",
    "    pipe = Pipeline([('trf1', ft), \n",
    "                     ('trf2', ColumnTransformer(\n",
    "                         transformers=[\n",
    "                             ('cat_preprocess', OneHotEncoder(**params_OneHotEncoder), cat_cols),\n",
    "                             ('num_preprocess', Pipeline(steps=[(\"num_preprocess1\", FunctionTransformer(np.log10)),\n",
    "                                                                ('num_preprocess2', MinMaxScaler())]), num_cols)\n",
    "                         ], remainder='drop')\n",
    "                     ), \n",
    "                     ('trf3', XGBRegressor(seed=123, **params_XGBRegressor))])\n",
    "    optuna_model = pipe.fit(X_train, y_train)\n",
    "\n",
    "    # evaluamos las predicciones del modelo\n",
    "    y_pred = optuna_model.predict(X_val)\n",
    "    mae = mean_absolute_error(y_val, y_pred)\n",
    "    \n",
    "    return mae\n",
    "\n",
    "# generamos estudio de optimizacion\n",
    "optuna.logging.set_verbosity(optuna.logging.WARNING)\n",
    "study = optuna.create_study(sampler=TPESampler(seed=123), direction='minimize')\n",
    "study.optimize(objective, timeout=5*60, show_progress_bar=True)\n",
    "\n",
    "# reporte de resultados\n",
    "print('Número de trials: {}'.format(len(study.trials)))\n",
    "print()\n",
    "print('Mejor trial:')\n",
    "trial = study.best_trial\n",
    "print()\n",
    "print(f'- MAE = {trial.value:.0f}')\n",
    "print()\n",
    "print('- Params: ')\n",
    "for key, value in trial.params.items():\n",
    "    print(f'    {key:18.18s} = {value}')\n",
    "    \n",
    "# guardamos el modelo\n",
    "params = study.best_params\n",
    "params_OneHotEncoder = params.popitem()\n",
    "params_OneHotEncoder = {params_OneHotEncoder[0]: params_OneHotEncoder[1]}\n",
    "params_XGBRegressor = params\n",
    "pipe = Pipeline([('trf1', ft), \n",
    "                 ('trf2', ColumnTransformer(\n",
    "                     transformers=[\n",
    "                         ('cat_preprocess', OneHotEncoder(**params_OneHotEncoder), cat_cols),\n",
    "                         ('num_preprocess', Pipeline(steps=[(\"num_preprocess1\", FunctionTransformer(np.log10)),\n",
    "                                                            ('num_preprocess2', MinMaxScaler())]), num_cols)\n",
    "                     ], remainder='drop')\n",
    "                 ), \n",
    "                 ('trf3', XGBRegressor(**params_XGBRegressor))])\n",
    "model_4 = pipe.fit(X_train, y_train)\n",
    "pickle.dump(model_4, open('Lab_09/model_4.pkl', 'wb'))"
   ]
  },
  {
   "cell_type": "markdown",
   "metadata": {},
   "source": [
    "En relación a las preguntas de esta sección:\n",
    "\n",
    "> Explique cada hiperparámetro y su rol en el modelo. ¿Hacen sentido los rangos de optimización indicados?\n",
    "\n",
    "**R.** Los parámetros optimizados a través del paquete `optuna` fueron los siguientes:\n",
    "\n",
    "- `learning_rate`. Tasa de aprendizaje para la reducción del tamaño de paso que se utiliza en la actualización, permitiendo prevenir *overfitting*.\n",
    "\n",
    "\n",
    "- `n_estimators`. Número de árboles impulsados por gradiente, permitiendo controlar el rendimiento y estabilidad numérica del modelo durante el entrenamiento.\n",
    "\n",
    "\n",
    "- `max_depth`. Profundidad máxima de un árbol para los componentes base de aprendizaje, permitiendo controlar el rendimiento del modelo durante el entrenamiento.\n",
    "\n",
    "\n",
    "- `max_leaves`. Número máximo de ramas en un árbol, permitiendo controlar el rendimiento del modelo durante el entrenamiento.\n",
    "\n",
    "\n",
    "- `min_child_weight`. Número mínimo de instancias necesarias para cada nodo de un árbol, permitiendo controlar cuán conservador es el algoritmo.\n",
    "\n",
    "\n",
    "- `reg_alpha`. Término de regularización L1 sobre los pesos, permitiendo prevenir *overfitting*.\n",
    "\n",
    "\n",
    "- `reg_lambda`. Término de regularización L2 sobre los pesos, permitiendo prevenir *overfitting*.\n",
    "\n",
    "\n",
    "- `min_frequency`. Frecuencia mínima por debajo de la cual una categoría dada se considera poco frecuente, permitiendo descartarla en caso existan.\n",
    "\n",
    "En términos generales, se considera que los rangos de optimización sugeridos son pertinentes para el problema en estudio, resultando que, luego del proceso de optimización, todos los hiperparámetros evaluados se encuentran dentro de dichos rangos, excepto por `max_depth`, para el cual se podría incrementar el rango de búsqueda debido a que el valor optimizado se encuentra en el límite superior.\n",
    "\n",
    "> ¿Cómo cambian sus resultados con respecto a la sección anterior? ¿A qué se puede deber esto?\n",
    "\n",
    "**R.** Al optimizar los hiperparámetros del algoritmo `XGBRegressor`, además de uno de los hiperparámetros de `OneHotEncoder`, se observa una disminución del error de 710 unidades de producto respecto al algoritmo `XGBRegressor` forzado con una relación monótona negativa (*i.e.* el `mean_absolute_error` disminuye de 2767 a 2057 unidades de producto). Dicho resultado se produce, entre otras razones, porque la optimización de hiperparámetros permite reducir el *overfitting*, mejorar el preprocesamiento/transformación de los atributos predictores y acelerar la convergencia del algoritmo en el modelo implementado."
   ]
  },
  {
   "cell_type": "markdown",
   "metadata": {
    "cell_id": "5195ccfc37e044ad9453f6eb2754f631",
    "deepnote_cell_type": "markdown"
   },
   "source": [
    "## 1.4 Optimización de Hiperparámetros con Optuna y Prunners (1.7)\n",
    "\n",
    "<p align=\"center\">\n",
    "  <img src=\"https://i.pinimg.com/originals/90/16/f9/9016f919c2259f3d0e8fe465049638a7.gif\">\n",
    "</p>\n",
    "\n",
    "Después de optimizar el rendimiento de su modelo varias veces, Fiu le pregunta si no es posible optimizar el entrenamiento del modelo en sí mismo. Después de leer un par de post de personas de dudosa reputación en la *deepweb*, usted llega a la conclusión que puede cumplir este objetivo mediante la implementación de **Prunning**.\n",
    "\n",
    "Vuelva a optimizar los mismos hiperparámetros que la sección pasada, pero esta vez utilizando **Prunning** en la optimización. En particular, usted debe:\n",
    "\n",
    "- [X] Responder: ¿Qué es prunning? ¿De qué forma debería impactar en el entrenamiento?\n",
    "- [X] Utilizar `optuna.integration.XGBoostPruningCallback` como método de **Prunning**\n",
    "- [X] Fijar nuevamente el tiempo de entrenamiento a 5 minutos\n",
    "- [X] Reportar el número de *trials*, el `MAE` y los mejores hiperparámetros encontrados. ¿Cómo cambian sus resultados con respecto a la sección anterior? ¿A qué se puede deber esto?\n",
    "- [X] Guardar su modelo en un archivo .pkl\n",
    "\n",
    "Nota: Si quieren silenciar los prints obtenidos en el prunning, pueden hacerlo mediante el siguiente comando:\n",
    "\n",
    "```\n",
    "optuna.logging.set_verbosity(optuna.logging.WARNING)\n",
    "```\n",
    "\n",
    "De implementar la opción anterior, pueden especificar `show_progress_bar = True` en el método `optimize` para *más sabor*.\n",
    "\n",
    "Hint: Si quieren especificar parámetros del método .fit() del modelo a través del pipeline, pueden hacerlo por medio de la siguiente sintaxis: `pipeline.fit(stepmodelo__parametro = valor)`\n",
    "\n",
    "Hint2: Este <a href = https://stackoverflow.com/questions/40329576/sklearn-pass-fit-parameters-to-xgboost-in-pipeline>enlace</a> les puede ser de ayuda en su implementación"
   ]
  },
  {
   "cell_type": "code",
   "execution_count": 50,
   "metadata": {
    "cell_id": "eeaa967cd8f6426d8c54f276c17dce79",
    "deepnote_cell_type": "code"
   },
   "outputs": [
    {
     "name": "stderr",
     "output_type": "stream",
     "text": [
      "Best trial: 198. Best value: 2110.97:  100%|██████████| 05:00/05:00\n"
     ]
    },
    {
     "name": "stdout",
     "output_type": "stream",
     "text": [
      "Número de trials: 612\n",
      "\n",
      "Mejor trial:\n",
      "\n",
      "- MAE = 2111\n",
      "\n",
      "- Params: \n",
      "    learning_rate      = 0.09914383295694433\n",
      "    n_estimators       = 826\n",
      "    max_depth          = 10\n",
      "    max_leaves         = 80\n",
      "    min_child_weight   = 5\n",
      "    reg_alpha          = 0.03450071860187535\n",
      "    reg_lambda         = 2.773667347179218e-08\n",
      "    min_frequency      = 0.00031683928998590255\n"
     ]
    }
   ],
   "source": [
    "# Inserte su código acá\n",
    "\n",
    "# definimos la funcion objetivo\n",
    "def objective(trial):\n",
    "    \n",
    "    # definimos parametros a optimizar para XGBRegressor\n",
    "    params_XGBRegressor = {\n",
    "        'learning_rate': trial.suggest_float('learning_rate', 0.001, 0.1, log=True),\n",
    "        'n_estimators': trial.suggest_int('n_estimators', 50, 1000),\n",
    "        'max_depth': trial.suggest_int('max_depth', 3, 10),\n",
    "        'max_leaves': trial.suggest_int('max_leaves', 0, 100),\n",
    "        'min_child_weight': trial.suggest_int('min_child_weight', 1, 5),\n",
    "        'reg_alpha': trial.suggest_float('reg_alpha', 1e-8, 1.0, log=True),\n",
    "        'reg_lambda': trial.suggest_float('reg_lambda', 1e-8, 1.0, log=True),\n",
    "        'eval_metric': 'rmse'\n",
    "    }\n",
    "    \n",
    "    # definimos parametros a optimizar para OneHotEncoder\n",
    "    params_OneHotEncoder = {\n",
    "        'min_frequency': trial.suggest_float('min_frequency', 1e-8, 1.0, log=True)\n",
    "    }\n",
    "    \n",
    "    # generamos pipeline y ajustamos el modelo\n",
    "    pruning_callback = optuna.integration.XGBoostPruningCallback(trial, 'validation_0-rmse')\n",
    "    pipe = Pipeline([('trf1', ft), \n",
    "                     ('trf2', ColumnTransformer(\n",
    "                         transformers=[\n",
    "                             ('cat_preprocess', OneHotEncoder(**params_OneHotEncoder), cat_cols),\n",
    "                             ('num_preprocess', Pipeline(steps=[(\"num_preprocess1\", FunctionTransformer(np.log10)),\n",
    "                                                                ('num_preprocess2', MinMaxScaler())]), num_cols)\n",
    "                         ], remainder='drop')\n",
    "                     ), \n",
    "                     ('trf3', XGBRegressor(**params_XGBRegressor, callbacks=[pruning_callback]))])\n",
    "\n",
    "    # pipeline de preprocesamiento para conjunto de validación  \n",
    "    preprocessing_pipeline = Pipeline([\n",
    "        ('trf1', ft),\n",
    "        ('trf2', ColumnTransformer(\n",
    "            transformers=[('cat_preprocess', OneHotEncoder(**params_OneHotEncoder), cat_cols),\n",
    "                        ('num_preprocess', Pipeline(steps=[(\"num_preprocess1\", FunctionTransformer(np.log10)),\n",
    "                                                            ('num_preprocess2', MinMaxScaler())]), num_cols)], remainder='drop'))\n",
    "                                                            ])\n",
    "\n",
    "    # se ajusta el pipeline de preprocesamiento con los datos de entrenamiento\n",
    "    preprocessing_pipeline.fit(X_train, y_train)\n",
    "\n",
    "    # se transforma el conjunto de validación\n",
    "    X_val_transformed = preprocessing_pipeline.transform(X_val)\n",
    "\n",
    "    # Entrenamos el modelo con el conjunto de validación transformado\n",
    "    optuna_model = pipe.fit(X_train, y_train, trf3__eval_set=[(X_val_transformed, y_val)], trf3__verbose=False)\n",
    "    #print(optuna_model.named_steps['trf3'].evals_result())\n",
    "\n",
    "    \n",
    "    # Evaluamos las predicciones del modelo\n",
    "    y_pred = optuna_model.predict(X_val)\n",
    "    mae = mean_absolute_error(y_val, y_pred)\n",
    "        \n",
    "    return mae\n",
    "\n",
    "# generamos estudio de optimizacion\n",
    "optuna.logging.set_verbosity(optuna.logging.WARNING)\n",
    "study = optuna.create_study(sampler=TPESampler(seed=123), direction='minimize')\n",
    "study.optimize(objective, timeout=5*60, show_progress_bar=True)\n",
    "\n",
    "# reporte de resultados\n",
    "print('Número de trials: {}'.format(len(study.trials)))\n",
    "print()\n",
    "print('Mejor trial:')\n",
    "trial = study.best_trial\n",
    "print()\n",
    "print(f'- MAE = {trial.value:.0f}')\n",
    "print()\n",
    "print('- Params: ')\n",
    "for key, value in trial.params.items():\n",
    "    print(f'    {key:18.18s} = {value}')\n",
    "\n",
    "# guardamos el modelo\n",
    "params = study.best_params\n",
    "params_OneHotEncoder = params.popitem()\n",
    "params_OneHotEncoder = {params_OneHotEncoder[0]: params_OneHotEncoder[1]}\n",
    "params_XGBRegressor = params\n",
    "pipe = Pipeline([('trf1', ft), \n",
    "                 ('trf2', ColumnTransformer(\n",
    "                     transformers=[\n",
    "                         ('cat_preprocess', OneHotEncoder(**params_OneHotEncoder), cat_cols),\n",
    "                         ('num_preprocess', Pipeline(steps=[(\"num_preprocess1\", FunctionTransformer(np.log10)),\n",
    "                                                            ('num_preprocess2', MinMaxScaler())]), num_cols)\n",
    "                     ], remainder='drop')\n",
    "                 ), \n",
    "                 ('trf3', XGBRegressor(**params_XGBRegressor))])\n",
    "model_5 = pipe.fit(X_train, y_train)\n",
    "pickle.dump(model_5, open('Lab_09/model_5.pkl', 'wb'))"
   ]
  },
  {
   "cell_type": "markdown",
   "metadata": {},
   "source": [
    "En relación a las preguntas de esta sección:\n",
    "\n",
    "> ¿Qué es prunning? ¿De qué forma debería impactar en el entrenamiento?\n",
    "\n",
    "**R.** El prunning es una técnica de machine learning que consiste en disminuir los recursos destinados a entrenar modelos, terminando prematuramente el entrenamiento de aquellos que no muestren un buen desempeño temprano. Esto lleva a un entrenamiento más rápido y eficaz, lo que permite una mayor exploración del espacio de hiperparámetros en el mismo tiempo y con los mismos recursos.\n",
    "\n",
    "> Cómo cambian sus resultados con respecto a la sección anterior? ¿A qué se puede deber esto?\n",
    "\n",
    "**R.** Lo primero que se observa es que, en los mismos cinco minutos, se alcanzan a completar más del doble de trials usando pruning. Respecto al desempeño, el MAE es ligeramente mayor al obtenido en la sección anterior (2111 vs 2057), aun cuando el uso de pruning permitió realizar más del doble de trials que en la sección anterior. Lo anterior se puede explicar en que pruning termina prematuramente el entrenamiento de modelos poco prometedores.\n",
    "\n",
    "Respecto a los parámetros obtenidos, las mayores diferencias se observan en los parámetros de regularización L1 y L2. En el caso de pruning, la regularización resulta ser menos estricta que en el modelo anterior. Posiblemente esto se explica en que, como pruning detiene prematuramente el entrenamiento de modelos que no muestran un buen desempeño temprano, sería posible probar con una regularización menos estricta ya que el término temprano del entrenamiento de modelos subóptimos también contribuye a prevenir el *overfitting*, lo cual permite explorar modelos más flexibles en términos de regularización obteniendo un desempeño similar."
   ]
  },
  {
   "cell_type": "markdown",
   "metadata": {
    "cell_id": "8a081778cc704fc6bed05393a5419327",
    "deepnote_cell_type": "markdown"
   },
   "source": [
    "## 1.5 Visualizaciones (0.5 puntos)\n",
    "\n",
    "<p align=\"center\">\n",
    "  <img src=\"https://media.tenor.com/F-LgB1xTebEAAAAd/look-at-this-graph-nickelback.gif\">\n",
    "</p>\n",
    "\n",
    "\n",
    "Satisfecho con su trabajo, Fiu le pregunta si es posible generar visualizaciones que permitan entender el entrenamiento de su modelo.\n",
    "\n",
    "A partir del siguiente <a href = https://optuna.readthedocs.io/en/stable/tutorial/10_key_features/005_visualization.html#visualization>enlace</a>, genere las siguientes visualizaciones:\n",
    "\n",
    "- Gráfico de historial de optimización\n",
    "- Gráfico de coordenadas paralelas\n",
    "- Gráfico de importancia de hiperparámetros\n",
    "\n",
    "Comente sus resultados: ¿Desde qué *trial* se empiezan a observar mejoras notables en sus resultados? ¿Qué tendencias puede observar a partir del gráfico de coordenadas paralelas? ¿Cuáles son los hiperparámetros con mayor importancia para la optimización de su modelo?"
   ]
  },
  {
   "cell_type": "code",
   "execution_count": 51,
   "metadata": {
    "cell_id": "0e706dc9a8d946eda7a9eb1f0463c6d7",
    "deepnote_cell_type": "code"
   },
   "outputs": [
    {
     "data": {
      "application/vnd.plotly.v1+json": {
       "config": {
        "plotlyServerURL": "https://plot.ly"
       },
       "data": [
        {
         "mode": "markers",
         "name": "Objective Value",
         "type": "scatter",
         "x": [
          0,
          1,
          2,
          3,
          4,
          8,
          10,
          13,
          16,
          17,
          18,
          19,
          21,
          22,
          23,
          25,
          27,
          28,
          31,
          41,
          42,
          46,
          51,
          52,
          53,
          54,
          55,
          58,
          59,
          60,
          61,
          62,
          63,
          65,
          67,
          68,
          69,
          70,
          72,
          73,
          78,
          81,
          82,
          83,
          87,
          91,
          94,
          95,
          96,
          97,
          98,
          100,
          114,
          115,
          116,
          121,
          123,
          124,
          125,
          127,
          131,
          136,
          151,
          152,
          156,
          161,
          165,
          168,
          179,
          183,
          184,
          185,
          192,
          193,
          196,
          197,
          198,
          202,
          211,
          221,
          222,
          276,
          296,
          339,
          354,
          366,
          403,
          529,
          539
         ],
         "y": [
          3736.9329363223615,
          4467.593146443767,
          10092.241170984238,
          3336.300526629831,
          4538.5598617748155,
          6068.9768493775155,
          2379.2998079623576,
          3128.7911022449803,
          2467.6622495389,
          2401.3404405927754,
          2328.6930611992266,
          3758.2224122731177,
          2306.6584174644217,
          2338.5213122812397,
          2262.7757390698357,
          2292.1555352623554,
          2293.8801975263036,
          2309.422676521368,
          2253.044929898401,
          2254.5199725370453,
          2283.386907381791,
          2399.0013939430855,
          2289.4373156255238,
          2238.382025224262,
          2283.272903370745,
          2223.6315315394972,
          2253.1685929378355,
          2225.5935790524395,
          2398.0347711267605,
          2224.03277411867,
          2218.344457860444,
          2219.44045817876,
          2296.836214225457,
          2372.1459928188924,
          2229.6712084027604,
          2303.8131302463216,
          2848.9956747319857,
          2550.522296048426,
          2232.3264905186325,
          2268.1786670544097,
          2352.729507743073,
          2270.84446162653,
          2205.9338144753942,
          2239.686069869739,
          2239.969324246259,
          2230.1372085049356,
          2235.2021633381014,
          2199.436602689051,
          2169.3374614549275,
          2220.2252615628668,
          2158.145589520194,
          2118.9338740778003,
          2202.170803139147,
          2151.551904689858,
          2133.503403886863,
          2200.7464423585784,
          2205.8108453782593,
          2191.754971397395,
          2164.1982601992163,
          2160.7056137279405,
          2162.517400627725,
          2206.9689764563946,
          2172.0924546301244,
          2170.0705468160527,
          2188.1324635639357,
          2221.964478767134,
          2179.39964936101,
          2184.2216492313255,
          2172.7508565389735,
          2191.2972157489207,
          2179.9508024710763,
          2215.040217214747,
          2192.995135690445,
          2164.1116674002346,
          2189.4518299576102,
          2195.2622699085136,
          2110.966284032319,
          2139.252071019869,
          2141.135040058057,
          2181.5450281441254,
          2172.751739604292,
          2159.92559605681,
          2212.495632650067,
          2339.979663626289,
          2207.9271062573357,
          2171.0414174500124,
          2171.939674014137,
          2189.2807712158365,
          2205.4642198896504
         ]
        },
        {
         "mode": "lines",
         "name": "Best Value",
         "type": "scatter",
         "x": [
          0,
          1,
          2,
          3,
          4,
          5,
          6,
          7,
          8,
          9,
          10,
          11,
          12,
          13,
          14,
          15,
          16,
          17,
          18,
          19,
          20,
          21,
          22,
          23,
          24,
          25,
          26,
          27,
          28,
          29,
          30,
          31,
          32,
          33,
          34,
          35,
          36,
          37,
          38,
          39,
          40,
          41,
          42,
          43,
          44,
          45,
          46,
          47,
          48,
          49,
          50,
          51,
          52,
          53,
          54,
          55,
          56,
          57,
          58,
          59,
          60,
          61,
          62,
          63,
          64,
          65,
          66,
          67,
          68,
          69,
          70,
          71,
          72,
          73,
          74,
          75,
          76,
          77,
          78,
          79,
          80,
          81,
          82,
          83,
          84,
          85,
          86,
          87,
          88,
          89,
          90,
          91,
          92,
          93,
          94,
          95,
          96,
          97,
          98,
          99,
          100,
          101,
          102,
          103,
          104,
          105,
          106,
          107,
          108,
          109,
          110,
          111,
          112,
          113,
          114,
          115,
          116,
          117,
          118,
          119,
          120,
          121,
          122,
          123,
          124,
          125,
          126,
          127,
          128,
          129,
          130,
          131,
          132,
          133,
          134,
          135,
          136,
          137,
          138,
          139,
          140,
          141,
          142,
          143,
          144,
          145,
          146,
          147,
          148,
          149,
          150,
          151,
          152,
          153,
          154,
          155,
          156,
          157,
          158,
          159,
          160,
          161,
          162,
          163,
          164,
          165,
          166,
          167,
          168,
          169,
          170,
          171,
          172,
          173,
          174,
          175,
          176,
          177,
          178,
          179,
          180,
          181,
          182,
          183,
          184,
          185,
          186,
          187,
          188,
          189,
          190,
          191,
          192,
          193,
          194,
          195,
          196,
          197,
          198,
          199,
          200,
          201,
          202,
          203,
          204,
          205,
          206,
          207,
          208,
          209,
          210,
          211,
          212,
          213,
          214,
          215,
          216,
          217,
          218,
          219,
          220,
          221,
          222,
          223,
          224,
          225,
          226,
          227,
          228,
          229,
          230,
          231,
          232,
          233,
          234,
          235,
          236,
          237,
          238,
          239,
          240,
          241,
          242,
          243,
          244,
          245,
          246,
          247,
          248,
          249,
          250,
          251,
          252,
          253,
          254,
          255,
          256,
          257,
          258,
          259,
          260,
          261,
          262,
          263,
          264,
          265,
          266,
          267,
          268,
          269,
          270,
          271,
          272,
          273,
          274,
          275,
          276,
          277,
          278,
          279,
          280,
          281,
          282,
          283,
          284,
          285,
          286,
          287,
          288,
          289,
          290,
          291,
          292,
          293,
          294,
          295,
          296,
          297,
          298,
          299,
          300,
          301,
          302,
          303,
          304,
          305,
          306,
          307,
          308,
          309,
          310,
          311,
          312,
          313,
          314,
          315,
          316,
          317,
          318,
          319,
          320,
          321,
          322,
          323,
          324,
          325,
          326,
          327,
          328,
          329,
          330,
          331,
          332,
          333,
          334,
          335,
          336,
          337,
          338,
          339,
          340,
          341,
          342,
          343,
          344,
          345,
          346,
          347,
          348,
          349,
          350,
          351,
          352,
          353,
          354,
          355,
          356,
          357,
          358,
          359,
          360,
          361,
          362,
          363,
          364,
          365,
          366,
          367,
          368,
          369,
          370,
          371,
          372,
          373,
          374,
          375,
          376,
          377,
          378,
          379,
          380,
          381,
          382,
          383,
          384,
          385,
          386,
          387,
          388,
          389,
          390,
          391,
          392,
          393,
          394,
          395,
          396,
          397,
          398,
          399,
          400,
          401,
          402,
          403,
          404,
          405,
          406,
          407,
          408,
          409,
          410,
          411,
          412,
          413,
          414,
          415,
          416,
          417,
          418,
          419,
          420,
          421,
          422,
          423,
          424,
          425,
          426,
          427,
          428,
          429,
          430,
          431,
          432,
          433,
          434,
          435,
          436,
          437,
          438,
          439,
          440,
          441,
          442,
          443,
          444,
          445,
          446,
          447,
          448,
          449,
          450,
          451,
          452,
          453,
          454,
          455,
          456,
          457,
          458,
          459,
          460,
          461,
          462,
          463,
          464,
          465,
          466,
          467,
          468,
          469,
          470,
          471,
          472,
          473,
          474,
          475,
          476,
          477,
          478,
          479,
          480,
          481,
          482,
          483,
          484,
          485,
          486,
          487,
          488,
          489,
          490,
          491,
          492,
          493,
          494,
          495,
          496,
          497,
          498,
          499,
          500,
          501,
          502,
          503,
          504,
          505,
          506,
          507,
          508,
          509,
          510,
          511,
          512,
          513,
          514,
          515,
          516,
          517,
          518,
          519,
          520,
          521,
          522,
          523,
          524,
          525,
          526,
          527,
          528,
          529,
          530,
          531,
          532,
          533,
          534,
          535,
          536,
          537,
          538,
          539,
          540,
          541,
          542,
          543,
          544,
          545,
          546,
          547,
          548,
          549,
          550,
          551,
          552,
          553,
          554,
          555,
          556,
          557,
          558,
          559,
          560,
          561,
          562,
          563,
          564,
          565,
          566,
          567,
          568,
          569,
          570,
          571,
          572,
          573,
          574,
          575,
          576,
          577,
          578,
          579,
          580,
          581,
          582,
          583,
          584,
          585,
          586,
          587,
          588,
          589,
          590,
          591,
          592,
          593,
          594,
          595,
          596,
          597,
          598,
          599,
          600,
          601,
          602,
          603,
          604,
          605,
          606,
          607,
          608,
          609,
          610,
          611
         ],
         "y": [
          3736.9329363223615,
          3736.9329363223615,
          3736.9329363223615,
          3336.300526629831,
          3336.300526629831,
          3336.300526629831,
          3336.300526629831,
          3336.300526629831,
          3336.300526629831,
          3336.300526629831,
          2379.2998079623576,
          2379.2998079623576,
          2379.2998079623576,
          2379.2998079623576,
          2379.2998079623576,
          2379.2998079623576,
          2379.2998079623576,
          2379.2998079623576,
          2328.6930611992266,
          2328.6930611992266,
          2328.6930611992266,
          2306.6584174644217,
          2306.6584174644217,
          2262.7757390698357,
          2262.7757390698357,
          2262.7757390698357,
          2262.7757390698357,
          2262.7757390698357,
          2262.7757390698357,
          2262.7757390698357,
          2262.7757390698357,
          2253.044929898401,
          2253.044929898401,
          2253.044929898401,
          2253.044929898401,
          2253.044929898401,
          2253.044929898401,
          2253.044929898401,
          2253.044929898401,
          2253.044929898401,
          2253.044929898401,
          2253.044929898401,
          2253.044929898401,
          2253.044929898401,
          2253.044929898401,
          2253.044929898401,
          2253.044929898401,
          2253.044929898401,
          2253.044929898401,
          2253.044929898401,
          2253.044929898401,
          2253.044929898401,
          2238.382025224262,
          2238.382025224262,
          2223.6315315394972,
          2223.6315315394972,
          2223.6315315394972,
          2223.6315315394972,
          2223.6315315394972,
          2223.6315315394972,
          2223.6315315394972,
          2218.344457860444,
          2218.344457860444,
          2218.344457860444,
          2218.344457860444,
          2218.344457860444,
          2218.344457860444,
          2218.344457860444,
          2218.344457860444,
          2218.344457860444,
          2218.344457860444,
          2218.344457860444,
          2218.344457860444,
          2218.344457860444,
          2218.344457860444,
          2218.344457860444,
          2218.344457860444,
          2218.344457860444,
          2218.344457860444,
          2218.344457860444,
          2218.344457860444,
          2218.344457860444,
          2205.9338144753942,
          2205.9338144753942,
          2205.9338144753942,
          2205.9338144753942,
          2205.9338144753942,
          2205.9338144753942,
          2205.9338144753942,
          2205.9338144753942,
          2205.9338144753942,
          2205.9338144753942,
          2205.9338144753942,
          2205.9338144753942,
          2205.9338144753942,
          2199.436602689051,
          2169.3374614549275,
          2169.3374614549275,
          2158.145589520194,
          2158.145589520194,
          2118.9338740778003,
          2118.9338740778003,
          2118.9338740778003,
          2118.9338740778003,
          2118.9338740778003,
          2118.9338740778003,
          2118.9338740778003,
          2118.9338740778003,
          2118.9338740778003,
          2118.9338740778003,
          2118.9338740778003,
          2118.9338740778003,
          2118.9338740778003,
          2118.9338740778003,
          2118.9338740778003,
          2118.9338740778003,
          2118.9338740778003,
          2118.9338740778003,
          2118.9338740778003,
          2118.9338740778003,
          2118.9338740778003,
          2118.9338740778003,
          2118.9338740778003,
          2118.9338740778003,
          2118.9338740778003,
          2118.9338740778003,
          2118.9338740778003,
          2118.9338740778003,
          2118.9338740778003,
          2118.9338740778003,
          2118.9338740778003,
          2118.9338740778003,
          2118.9338740778003,
          2118.9338740778003,
          2118.9338740778003,
          2118.9338740778003,
          2118.9338740778003,
          2118.9338740778003,
          2118.9338740778003,
          2118.9338740778003,
          2118.9338740778003,
          2118.9338740778003,
          2118.9338740778003,
          2118.9338740778003,
          2118.9338740778003,
          2118.9338740778003,
          2118.9338740778003,
          2118.9338740778003,
          2118.9338740778003,
          2118.9338740778003,
          2118.9338740778003,
          2118.9338740778003,
          2118.9338740778003,
          2118.9338740778003,
          2118.9338740778003,
          2118.9338740778003,
          2118.9338740778003,
          2118.9338740778003,
          2118.9338740778003,
          2118.9338740778003,
          2118.9338740778003,
          2118.9338740778003,
          2118.9338740778003,
          2118.9338740778003,
          2118.9338740778003,
          2118.9338740778003,
          2118.9338740778003,
          2118.9338740778003,
          2118.9338740778003,
          2118.9338740778003,
          2118.9338740778003,
          2118.9338740778003,
          2118.9338740778003,
          2118.9338740778003,
          2118.9338740778003,
          2118.9338740778003,
          2118.9338740778003,
          2118.9338740778003,
          2118.9338740778003,
          2118.9338740778003,
          2118.9338740778003,
          2118.9338740778003,
          2118.9338740778003,
          2118.9338740778003,
          2118.9338740778003,
          2118.9338740778003,
          2118.9338740778003,
          2118.9338740778003,
          2118.9338740778003,
          2118.9338740778003,
          2118.9338740778003,
          2118.9338740778003,
          2118.9338740778003,
          2118.9338740778003,
          2118.9338740778003,
          2118.9338740778003,
          2118.9338740778003,
          2118.9338740778003,
          2110.966284032319,
          2110.966284032319,
          2110.966284032319,
          2110.966284032319,
          2110.966284032319,
          2110.966284032319,
          2110.966284032319,
          2110.966284032319,
          2110.966284032319,
          2110.966284032319,
          2110.966284032319,
          2110.966284032319,
          2110.966284032319,
          2110.966284032319,
          2110.966284032319,
          2110.966284032319,
          2110.966284032319,
          2110.966284032319,
          2110.966284032319,
          2110.966284032319,
          2110.966284032319,
          2110.966284032319,
          2110.966284032319,
          2110.966284032319,
          2110.966284032319,
          2110.966284032319,
          2110.966284032319,
          2110.966284032319,
          2110.966284032319,
          2110.966284032319,
          2110.966284032319,
          2110.966284032319,
          2110.966284032319,
          2110.966284032319,
          2110.966284032319,
          2110.966284032319,
          2110.966284032319,
          2110.966284032319,
          2110.966284032319,
          2110.966284032319,
          2110.966284032319,
          2110.966284032319,
          2110.966284032319,
          2110.966284032319,
          2110.966284032319,
          2110.966284032319,
          2110.966284032319,
          2110.966284032319,
          2110.966284032319,
          2110.966284032319,
          2110.966284032319,
          2110.966284032319,
          2110.966284032319,
          2110.966284032319,
          2110.966284032319,
          2110.966284032319,
          2110.966284032319,
          2110.966284032319,
          2110.966284032319,
          2110.966284032319,
          2110.966284032319,
          2110.966284032319,
          2110.966284032319,
          2110.966284032319,
          2110.966284032319,
          2110.966284032319,
          2110.966284032319,
          2110.966284032319,
          2110.966284032319,
          2110.966284032319,
          2110.966284032319,
          2110.966284032319,
          2110.966284032319,
          2110.966284032319,
          2110.966284032319,
          2110.966284032319,
          2110.966284032319,
          2110.966284032319,
          2110.966284032319,
          2110.966284032319,
          2110.966284032319,
          2110.966284032319,
          2110.966284032319,
          2110.966284032319,
          2110.966284032319,
          2110.966284032319,
          2110.966284032319,
          2110.966284032319,
          2110.966284032319,
          2110.966284032319,
          2110.966284032319,
          2110.966284032319,
          2110.966284032319,
          2110.966284032319,
          2110.966284032319,
          2110.966284032319,
          2110.966284032319,
          2110.966284032319,
          2110.966284032319,
          2110.966284032319,
          2110.966284032319,
          2110.966284032319,
          2110.966284032319,
          2110.966284032319,
          2110.966284032319,
          2110.966284032319,
          2110.966284032319,
          2110.966284032319,
          2110.966284032319,
          2110.966284032319,
          2110.966284032319,
          2110.966284032319,
          2110.966284032319,
          2110.966284032319,
          2110.966284032319,
          2110.966284032319,
          2110.966284032319,
          2110.966284032319,
          2110.966284032319,
          2110.966284032319,
          2110.966284032319,
          2110.966284032319,
          2110.966284032319,
          2110.966284032319,
          2110.966284032319,
          2110.966284032319,
          2110.966284032319,
          2110.966284032319,
          2110.966284032319,
          2110.966284032319,
          2110.966284032319,
          2110.966284032319,
          2110.966284032319,
          2110.966284032319,
          2110.966284032319,
          2110.966284032319,
          2110.966284032319,
          2110.966284032319,
          2110.966284032319,
          2110.966284032319,
          2110.966284032319,
          2110.966284032319,
          2110.966284032319,
          2110.966284032319,
          2110.966284032319,
          2110.966284032319,
          2110.966284032319,
          2110.966284032319,
          2110.966284032319,
          2110.966284032319,
          2110.966284032319,
          2110.966284032319,
          2110.966284032319,
          2110.966284032319,
          2110.966284032319,
          2110.966284032319,
          2110.966284032319,
          2110.966284032319,
          2110.966284032319,
          2110.966284032319,
          2110.966284032319,
          2110.966284032319,
          2110.966284032319,
          2110.966284032319,
          2110.966284032319,
          2110.966284032319,
          2110.966284032319,
          2110.966284032319,
          2110.966284032319,
          2110.966284032319,
          2110.966284032319,
          2110.966284032319,
          2110.966284032319,
          2110.966284032319,
          2110.966284032319,
          2110.966284032319,
          2110.966284032319,
          2110.966284032319,
          2110.966284032319,
          2110.966284032319,
          2110.966284032319,
          2110.966284032319,
          2110.966284032319,
          2110.966284032319,
          2110.966284032319,
          2110.966284032319,
          2110.966284032319,
          2110.966284032319,
          2110.966284032319,
          2110.966284032319,
          2110.966284032319,
          2110.966284032319,
          2110.966284032319,
          2110.966284032319,
          2110.966284032319,
          2110.966284032319,
          2110.966284032319,
          2110.966284032319,
          2110.966284032319,
          2110.966284032319,
          2110.966284032319,
          2110.966284032319,
          2110.966284032319,
          2110.966284032319,
          2110.966284032319,
          2110.966284032319,
          2110.966284032319,
          2110.966284032319,
          2110.966284032319,
          2110.966284032319,
          2110.966284032319,
          2110.966284032319,
          2110.966284032319,
          2110.966284032319,
          2110.966284032319,
          2110.966284032319,
          2110.966284032319,
          2110.966284032319,
          2110.966284032319,
          2110.966284032319,
          2110.966284032319,
          2110.966284032319,
          2110.966284032319,
          2110.966284032319,
          2110.966284032319,
          2110.966284032319,
          2110.966284032319,
          2110.966284032319,
          2110.966284032319,
          2110.966284032319,
          2110.966284032319,
          2110.966284032319,
          2110.966284032319,
          2110.966284032319,
          2110.966284032319,
          2110.966284032319,
          2110.966284032319,
          2110.966284032319,
          2110.966284032319,
          2110.966284032319,
          2110.966284032319,
          2110.966284032319,
          2110.966284032319,
          2110.966284032319,
          2110.966284032319,
          2110.966284032319,
          2110.966284032319,
          2110.966284032319,
          2110.966284032319,
          2110.966284032319,
          2110.966284032319,
          2110.966284032319,
          2110.966284032319,
          2110.966284032319,
          2110.966284032319,
          2110.966284032319,
          2110.966284032319,
          2110.966284032319,
          2110.966284032319,
          2110.966284032319,
          2110.966284032319,
          2110.966284032319,
          2110.966284032319,
          2110.966284032319,
          2110.966284032319,
          2110.966284032319,
          2110.966284032319,
          2110.966284032319,
          2110.966284032319,
          2110.966284032319,
          2110.966284032319,
          2110.966284032319,
          2110.966284032319,
          2110.966284032319,
          2110.966284032319,
          2110.966284032319,
          2110.966284032319,
          2110.966284032319,
          2110.966284032319,
          2110.966284032319,
          2110.966284032319,
          2110.966284032319,
          2110.966284032319,
          2110.966284032319,
          2110.966284032319,
          2110.966284032319,
          2110.966284032319,
          2110.966284032319,
          2110.966284032319,
          2110.966284032319,
          2110.966284032319,
          2110.966284032319,
          2110.966284032319,
          2110.966284032319,
          2110.966284032319,
          2110.966284032319,
          2110.966284032319,
          2110.966284032319,
          2110.966284032319,
          2110.966284032319,
          2110.966284032319,
          2110.966284032319,
          2110.966284032319,
          2110.966284032319,
          2110.966284032319,
          2110.966284032319,
          2110.966284032319,
          2110.966284032319,
          2110.966284032319,
          2110.966284032319,
          2110.966284032319,
          2110.966284032319,
          2110.966284032319,
          2110.966284032319,
          2110.966284032319,
          2110.966284032319,
          2110.966284032319,
          2110.966284032319,
          2110.966284032319,
          2110.966284032319,
          2110.966284032319,
          2110.966284032319,
          2110.966284032319,
          2110.966284032319,
          2110.966284032319,
          2110.966284032319,
          2110.966284032319,
          2110.966284032319,
          2110.966284032319,
          2110.966284032319,
          2110.966284032319,
          2110.966284032319,
          2110.966284032319,
          2110.966284032319,
          2110.966284032319,
          2110.966284032319,
          2110.966284032319,
          2110.966284032319,
          2110.966284032319,
          2110.966284032319,
          2110.966284032319,
          2110.966284032319,
          2110.966284032319,
          2110.966284032319,
          2110.966284032319,
          2110.966284032319,
          2110.966284032319,
          2110.966284032319,
          2110.966284032319,
          2110.966284032319,
          2110.966284032319,
          2110.966284032319,
          2110.966284032319,
          2110.966284032319,
          2110.966284032319,
          2110.966284032319,
          2110.966284032319,
          2110.966284032319,
          2110.966284032319,
          2110.966284032319,
          2110.966284032319,
          2110.966284032319,
          2110.966284032319,
          2110.966284032319,
          2110.966284032319,
          2110.966284032319,
          2110.966284032319,
          2110.966284032319,
          2110.966284032319,
          2110.966284032319,
          2110.966284032319,
          2110.966284032319,
          2110.966284032319,
          2110.966284032319,
          2110.966284032319,
          2110.966284032319,
          2110.966284032319,
          2110.966284032319,
          2110.966284032319,
          2110.966284032319,
          2110.966284032319,
          2110.966284032319,
          2110.966284032319,
          2110.966284032319,
          2110.966284032319,
          2110.966284032319,
          2110.966284032319,
          2110.966284032319,
          2110.966284032319,
          2110.966284032319,
          2110.966284032319,
          2110.966284032319,
          2110.966284032319,
          2110.966284032319,
          2110.966284032319,
          2110.966284032319,
          2110.966284032319,
          2110.966284032319,
          2110.966284032319,
          2110.966284032319,
          2110.966284032319,
          2110.966284032319,
          2110.966284032319,
          2110.966284032319,
          2110.966284032319,
          2110.966284032319,
          2110.966284032319,
          2110.966284032319,
          2110.966284032319,
          2110.966284032319,
          2110.966284032319,
          2110.966284032319,
          2110.966284032319,
          2110.966284032319
         ]
        },
        {
         "marker": {
          "color": "#cccccc"
         },
         "mode": "markers",
         "name": "Infeasible Trial",
         "showlegend": false,
         "type": "scatter",
         "x": [],
         "y": []
        }
       ],
       "layout": {
        "template": {
         "data": {
          "bar": [
           {
            "error_x": {
             "color": "#2a3f5f"
            },
            "error_y": {
             "color": "#2a3f5f"
            },
            "marker": {
             "line": {
              "color": "#E5ECF6",
              "width": 0.5
             },
             "pattern": {
              "fillmode": "overlay",
              "size": 10,
              "solidity": 0.2
             }
            },
            "type": "bar"
           }
          ],
          "barpolar": [
           {
            "marker": {
             "line": {
              "color": "#E5ECF6",
              "width": 0.5
             },
             "pattern": {
              "fillmode": "overlay",
              "size": 10,
              "solidity": 0.2
             }
            },
            "type": "barpolar"
           }
          ],
          "carpet": [
           {
            "aaxis": {
             "endlinecolor": "#2a3f5f",
             "gridcolor": "white",
             "linecolor": "white",
             "minorgridcolor": "white",
             "startlinecolor": "#2a3f5f"
            },
            "baxis": {
             "endlinecolor": "#2a3f5f",
             "gridcolor": "white",
             "linecolor": "white",
             "minorgridcolor": "white",
             "startlinecolor": "#2a3f5f"
            },
            "type": "carpet"
           }
          ],
          "choropleth": [
           {
            "colorbar": {
             "outlinewidth": 0,
             "ticks": ""
            },
            "type": "choropleth"
           }
          ],
          "contour": [
           {
            "colorbar": {
             "outlinewidth": 0,
             "ticks": ""
            },
            "colorscale": [
             [
              0,
              "#0d0887"
             ],
             [
              0.1111111111111111,
              "#46039f"
             ],
             [
              0.2222222222222222,
              "#7201a8"
             ],
             [
              0.3333333333333333,
              "#9c179e"
             ],
             [
              0.4444444444444444,
              "#bd3786"
             ],
             [
              0.5555555555555556,
              "#d8576b"
             ],
             [
              0.6666666666666666,
              "#ed7953"
             ],
             [
              0.7777777777777778,
              "#fb9f3a"
             ],
             [
              0.8888888888888888,
              "#fdca26"
             ],
             [
              1,
              "#f0f921"
             ]
            ],
            "type": "contour"
           }
          ],
          "contourcarpet": [
           {
            "colorbar": {
             "outlinewidth": 0,
             "ticks": ""
            },
            "type": "contourcarpet"
           }
          ],
          "heatmap": [
           {
            "colorbar": {
             "outlinewidth": 0,
             "ticks": ""
            },
            "colorscale": [
             [
              0,
              "#0d0887"
             ],
             [
              0.1111111111111111,
              "#46039f"
             ],
             [
              0.2222222222222222,
              "#7201a8"
             ],
             [
              0.3333333333333333,
              "#9c179e"
             ],
             [
              0.4444444444444444,
              "#bd3786"
             ],
             [
              0.5555555555555556,
              "#d8576b"
             ],
             [
              0.6666666666666666,
              "#ed7953"
             ],
             [
              0.7777777777777778,
              "#fb9f3a"
             ],
             [
              0.8888888888888888,
              "#fdca26"
             ],
             [
              1,
              "#f0f921"
             ]
            ],
            "type": "heatmap"
           }
          ],
          "heatmapgl": [
           {
            "colorbar": {
             "outlinewidth": 0,
             "ticks": ""
            },
            "colorscale": [
             [
              0,
              "#0d0887"
             ],
             [
              0.1111111111111111,
              "#46039f"
             ],
             [
              0.2222222222222222,
              "#7201a8"
             ],
             [
              0.3333333333333333,
              "#9c179e"
             ],
             [
              0.4444444444444444,
              "#bd3786"
             ],
             [
              0.5555555555555556,
              "#d8576b"
             ],
             [
              0.6666666666666666,
              "#ed7953"
             ],
             [
              0.7777777777777778,
              "#fb9f3a"
             ],
             [
              0.8888888888888888,
              "#fdca26"
             ],
             [
              1,
              "#f0f921"
             ]
            ],
            "type": "heatmapgl"
           }
          ],
          "histogram": [
           {
            "marker": {
             "pattern": {
              "fillmode": "overlay",
              "size": 10,
              "solidity": 0.2
             }
            },
            "type": "histogram"
           }
          ],
          "histogram2d": [
           {
            "colorbar": {
             "outlinewidth": 0,
             "ticks": ""
            },
            "colorscale": [
             [
              0,
              "#0d0887"
             ],
             [
              0.1111111111111111,
              "#46039f"
             ],
             [
              0.2222222222222222,
              "#7201a8"
             ],
             [
              0.3333333333333333,
              "#9c179e"
             ],
             [
              0.4444444444444444,
              "#bd3786"
             ],
             [
              0.5555555555555556,
              "#d8576b"
             ],
             [
              0.6666666666666666,
              "#ed7953"
             ],
             [
              0.7777777777777778,
              "#fb9f3a"
             ],
             [
              0.8888888888888888,
              "#fdca26"
             ],
             [
              1,
              "#f0f921"
             ]
            ],
            "type": "histogram2d"
           }
          ],
          "histogram2dcontour": [
           {
            "colorbar": {
             "outlinewidth": 0,
             "ticks": ""
            },
            "colorscale": [
             [
              0,
              "#0d0887"
             ],
             [
              0.1111111111111111,
              "#46039f"
             ],
             [
              0.2222222222222222,
              "#7201a8"
             ],
             [
              0.3333333333333333,
              "#9c179e"
             ],
             [
              0.4444444444444444,
              "#bd3786"
             ],
             [
              0.5555555555555556,
              "#d8576b"
             ],
             [
              0.6666666666666666,
              "#ed7953"
             ],
             [
              0.7777777777777778,
              "#fb9f3a"
             ],
             [
              0.8888888888888888,
              "#fdca26"
             ],
             [
              1,
              "#f0f921"
             ]
            ],
            "type": "histogram2dcontour"
           }
          ],
          "mesh3d": [
           {
            "colorbar": {
             "outlinewidth": 0,
             "ticks": ""
            },
            "type": "mesh3d"
           }
          ],
          "parcoords": [
           {
            "line": {
             "colorbar": {
              "outlinewidth": 0,
              "ticks": ""
             }
            },
            "type": "parcoords"
           }
          ],
          "pie": [
           {
            "automargin": true,
            "type": "pie"
           }
          ],
          "scatter": [
           {
            "fillpattern": {
             "fillmode": "overlay",
             "size": 10,
             "solidity": 0.2
            },
            "type": "scatter"
           }
          ],
          "scatter3d": [
           {
            "line": {
             "colorbar": {
              "outlinewidth": 0,
              "ticks": ""
             }
            },
            "marker": {
             "colorbar": {
              "outlinewidth": 0,
              "ticks": ""
             }
            },
            "type": "scatter3d"
           }
          ],
          "scattercarpet": [
           {
            "marker": {
             "colorbar": {
              "outlinewidth": 0,
              "ticks": ""
             }
            },
            "type": "scattercarpet"
           }
          ],
          "scattergeo": [
           {
            "marker": {
             "colorbar": {
              "outlinewidth": 0,
              "ticks": ""
             }
            },
            "type": "scattergeo"
           }
          ],
          "scattergl": [
           {
            "marker": {
             "colorbar": {
              "outlinewidth": 0,
              "ticks": ""
             }
            },
            "type": "scattergl"
           }
          ],
          "scattermapbox": [
           {
            "marker": {
             "colorbar": {
              "outlinewidth": 0,
              "ticks": ""
             }
            },
            "type": "scattermapbox"
           }
          ],
          "scatterpolar": [
           {
            "marker": {
             "colorbar": {
              "outlinewidth": 0,
              "ticks": ""
             }
            },
            "type": "scatterpolar"
           }
          ],
          "scatterpolargl": [
           {
            "marker": {
             "colorbar": {
              "outlinewidth": 0,
              "ticks": ""
             }
            },
            "type": "scatterpolargl"
           }
          ],
          "scatterternary": [
           {
            "marker": {
             "colorbar": {
              "outlinewidth": 0,
              "ticks": ""
             }
            },
            "type": "scatterternary"
           }
          ],
          "surface": [
           {
            "colorbar": {
             "outlinewidth": 0,
             "ticks": ""
            },
            "colorscale": [
             [
              0,
              "#0d0887"
             ],
             [
              0.1111111111111111,
              "#46039f"
             ],
             [
              0.2222222222222222,
              "#7201a8"
             ],
             [
              0.3333333333333333,
              "#9c179e"
             ],
             [
              0.4444444444444444,
              "#bd3786"
             ],
             [
              0.5555555555555556,
              "#d8576b"
             ],
             [
              0.6666666666666666,
              "#ed7953"
             ],
             [
              0.7777777777777778,
              "#fb9f3a"
             ],
             [
              0.8888888888888888,
              "#fdca26"
             ],
             [
              1,
              "#f0f921"
             ]
            ],
            "type": "surface"
           }
          ],
          "table": [
           {
            "cells": {
             "fill": {
              "color": "#EBF0F8"
             },
             "line": {
              "color": "white"
             }
            },
            "header": {
             "fill": {
              "color": "#C8D4E3"
             },
             "line": {
              "color": "white"
             }
            },
            "type": "table"
           }
          ]
         },
         "layout": {
          "annotationdefaults": {
           "arrowcolor": "#2a3f5f",
           "arrowhead": 0,
           "arrowwidth": 1
          },
          "autotypenumbers": "strict",
          "coloraxis": {
           "colorbar": {
            "outlinewidth": 0,
            "ticks": ""
           }
          },
          "colorscale": {
           "diverging": [
            [
             0,
             "#8e0152"
            ],
            [
             0.1,
             "#c51b7d"
            ],
            [
             0.2,
             "#de77ae"
            ],
            [
             0.3,
             "#f1b6da"
            ],
            [
             0.4,
             "#fde0ef"
            ],
            [
             0.5,
             "#f7f7f7"
            ],
            [
             0.6,
             "#e6f5d0"
            ],
            [
             0.7,
             "#b8e186"
            ],
            [
             0.8,
             "#7fbc41"
            ],
            [
             0.9,
             "#4d9221"
            ],
            [
             1,
             "#276419"
            ]
           ],
           "sequential": [
            [
             0,
             "#0d0887"
            ],
            [
             0.1111111111111111,
             "#46039f"
            ],
            [
             0.2222222222222222,
             "#7201a8"
            ],
            [
             0.3333333333333333,
             "#9c179e"
            ],
            [
             0.4444444444444444,
             "#bd3786"
            ],
            [
             0.5555555555555556,
             "#d8576b"
            ],
            [
             0.6666666666666666,
             "#ed7953"
            ],
            [
             0.7777777777777778,
             "#fb9f3a"
            ],
            [
             0.8888888888888888,
             "#fdca26"
            ],
            [
             1,
             "#f0f921"
            ]
           ],
           "sequentialminus": [
            [
             0,
             "#0d0887"
            ],
            [
             0.1111111111111111,
             "#46039f"
            ],
            [
             0.2222222222222222,
             "#7201a8"
            ],
            [
             0.3333333333333333,
             "#9c179e"
            ],
            [
             0.4444444444444444,
             "#bd3786"
            ],
            [
             0.5555555555555556,
             "#d8576b"
            ],
            [
             0.6666666666666666,
             "#ed7953"
            ],
            [
             0.7777777777777778,
             "#fb9f3a"
            ],
            [
             0.8888888888888888,
             "#fdca26"
            ],
            [
             1,
             "#f0f921"
            ]
           ]
          },
          "colorway": [
           "#636efa",
           "#EF553B",
           "#00cc96",
           "#ab63fa",
           "#FFA15A",
           "#19d3f3",
           "#FF6692",
           "#B6E880",
           "#FF97FF",
           "#FECB52"
          ],
          "font": {
           "color": "#2a3f5f"
          },
          "geo": {
           "bgcolor": "white",
           "lakecolor": "white",
           "landcolor": "#E5ECF6",
           "showlakes": true,
           "showland": true,
           "subunitcolor": "white"
          },
          "hoverlabel": {
           "align": "left"
          },
          "hovermode": "closest",
          "mapbox": {
           "style": "light"
          },
          "paper_bgcolor": "white",
          "plot_bgcolor": "#E5ECF6",
          "polar": {
           "angularaxis": {
            "gridcolor": "white",
            "linecolor": "white",
            "ticks": ""
           },
           "bgcolor": "#E5ECF6",
           "radialaxis": {
            "gridcolor": "white",
            "linecolor": "white",
            "ticks": ""
           }
          },
          "scene": {
           "xaxis": {
            "backgroundcolor": "#E5ECF6",
            "gridcolor": "white",
            "gridwidth": 2,
            "linecolor": "white",
            "showbackground": true,
            "ticks": "",
            "zerolinecolor": "white"
           },
           "yaxis": {
            "backgroundcolor": "#E5ECF6",
            "gridcolor": "white",
            "gridwidth": 2,
            "linecolor": "white",
            "showbackground": true,
            "ticks": "",
            "zerolinecolor": "white"
           },
           "zaxis": {
            "backgroundcolor": "#E5ECF6",
            "gridcolor": "white",
            "gridwidth": 2,
            "linecolor": "white",
            "showbackground": true,
            "ticks": "",
            "zerolinecolor": "white"
           }
          },
          "shapedefaults": {
           "line": {
            "color": "#2a3f5f"
           }
          },
          "ternary": {
           "aaxis": {
            "gridcolor": "white",
            "linecolor": "white",
            "ticks": ""
           },
           "baxis": {
            "gridcolor": "white",
            "linecolor": "white",
            "ticks": ""
           },
           "bgcolor": "#E5ECF6",
           "caxis": {
            "gridcolor": "white",
            "linecolor": "white",
            "ticks": ""
           }
          },
          "title": {
           "x": 0.05
          },
          "xaxis": {
           "automargin": true,
           "gridcolor": "white",
           "linecolor": "white",
           "ticks": "",
           "title": {
            "standoff": 15
           },
           "zerolinecolor": "white",
           "zerolinewidth": 2
          },
          "yaxis": {
           "automargin": true,
           "gridcolor": "white",
           "linecolor": "white",
           "ticks": "",
           "title": {
            "standoff": 15
           },
           "zerolinecolor": "white",
           "zerolinewidth": 2
          }
         }
        },
        "title": {
         "text": "Optimization History Plot"
        },
        "xaxis": {
         "title": {
          "text": "Trial"
         }
        },
        "yaxis": {
         "title": {
          "text": "Objective Value"
         }
        }
       }
      }
     },
     "metadata": {},
     "output_type": "display_data"
    }
   ],
   "source": [
    "# Gráfico de historial de optimización\n",
    "plot_optimization_history(study)"
   ]
  },
  {
   "cell_type": "code",
   "execution_count": 52,
   "metadata": {},
   "outputs": [
    {
     "data": {
      "application/vnd.plotly.v1+json": {
       "config": {
        "plotlyServerURL": "https://plot.ly"
       },
       "data": [
        {
         "dimensions": [
          {
           "label": "Objective Value",
           "range": [
            2110.966284032319,
            10092.241170984238
           ],
           "values": [
            3736.9329363223615,
            4467.593146443767,
            10092.241170984238,
            3336.300526629831,
            4538.5598617748155,
            6068.9768493775155,
            2379.2998079623576,
            3128.7911022449803,
            2467.6622495389,
            2401.3404405927754,
            2328.6930611992266,
            3758.2224122731177,
            2306.6584174644217,
            2338.5213122812397,
            2262.7757390698357,
            2292.1555352623554,
            2293.8801975263036,
            2309.422676521368,
            2253.044929898401,
            2254.5199725370453,
            2283.386907381791,
            2399.0013939430855,
            2289.4373156255238,
            2238.382025224262,
            2283.272903370745,
            2223.6315315394972,
            2253.1685929378355,
            2225.5935790524395,
            2398.0347711267605,
            2224.03277411867,
            2218.344457860444,
            2219.44045817876,
            2296.836214225457,
            2372.1459928188924,
            2229.6712084027604,
            2303.8131302463216,
            2848.9956747319857,
            2550.522296048426,
            2232.3264905186325,
            2268.1786670544097,
            2352.729507743073,
            2270.84446162653,
            2205.9338144753942,
            2239.686069869739,
            2239.969324246259,
            2230.1372085049356,
            2235.2021633381014,
            2199.436602689051,
            2169.3374614549275,
            2220.2252615628668,
            2158.145589520194,
            2118.9338740778003,
            2202.170803139147,
            2151.551904689858,
            2133.503403886863,
            2200.7464423585784,
            2205.8108453782593,
            2191.754971397395,
            2164.1982601992163,
            2160.7056137279405,
            2162.517400627725,
            2206.9689764563946,
            2172.0924546301244,
            2170.0705468160527,
            2188.1324635639357,
            2221.964478767134,
            2179.39964936101,
            2184.2216492313255,
            2172.7508565389735,
            2191.2972157489207,
            2179.9508024710763,
            2215.040217214747,
            2192.995135690445,
            2164.1116674002346,
            2189.4518299576102,
            2195.2622699085136,
            2110.966284032319,
            2139.252071019869,
            2141.135040058057,
            2181.5450281441254,
            2172.751739604292,
            2159.92559605681,
            2212.495632650067,
            2339.979663626289,
            2207.9271062573357,
            2171.0414174500124,
            2171.939674014137,
            2189.2807712158365,
            2205.4642198896504
           ]
          },
          {
           "label": "learning_rate",
           "range": [
            -2.635016539093,
            -1.0000660828679693
           ],
           "ticktext": [
            "0.00232",
            "0.01",
            "0.1"
           ],
           "tickvals": [
            -2.635016539093,
            -2,
            -1.0000660828679693
           ],
           "values": [
            -1.6070616288042765,
            -2.038136197031278,
            -2.635016539093,
            -1.5551132348595567,
            -2.1382744733407124,
            -1.3153151247594852,
            -1.0312904637101452,
            -1.3894122927414025,
            -1.3076420304365162,
            -1.0349811756389902,
            -1.0090467363741804,
            -1.2126516351652676,
            -1.0073490312079059,
            -1.1858209836150426,
            -1.1749355173916485,
            -1.1693629931625833,
            -1.178154059782729,
            -1.1832644773718097,
            -1.1863707574425126,
            -1.1159863177303555,
            -1.1387302620432558,
            -1.1124689444848945,
            -1.0981370346467478,
            -1.0929482970076312,
            -1.122792122236237,
            -1.0822041784946954,
            -1.0803156743552433,
            -1.0559589631410564,
            -1.0587119939647103,
            -1.001898063957275,
            -1.0053472011351285,
            -1.015991115924109,
            -1.0491212883828527,
            -1.0010905123665828,
            -1.0592286613571709,
            -1.0646387144740141,
            -1.0494672482681016,
            -1.0012183499709757,
            -1.0700201519134622,
            -1.076875280245573,
            -1.0505587081361407,
            -1.0862187625795854,
            -1.00986061462681,
            -1.037132075970328,
            -1.0062579211093359,
            -1.037448156585351,
            -1.0656605408996098,
            -1.043497636943326,
            -1.0000660828679693,
            -1.036226220091171,
            -1.002197939763339,
            -1.005090288049327,
            -1.0016433354196173,
            -1.0070775780315426,
            -1.0098985324011938,
            -1.0185784496603525,
            -1.040896838848804,
            -1.0014175941259391,
            -1.0035075722293734,
            -1.0015501736242085,
            -1.0366886705228078,
            -1.0010814548839162,
            -1.0051307955901896,
            -1.0002900418060363,
            -1.0002231280896277,
            -1.0293031022164079,
            -1.0012306176824355,
            -1.0019038239531721,
            -1.0032006980685415,
            -1.0084882065171976,
            -1.013441049168254,
            -1.005584300771783,
            -1.0010111066795921,
            -1.0018121486854503,
            -1.0018626268095268,
            -1.0037449794348943,
            -1.0037342950347405,
            -1.0010123571158842,
            -1.0040595251493951,
            -1.0026438372687474,
            -1.003803779862706,
            -1.0019804991349028,
            -1.0021622422870862,
            -1.000937669846657,
            -1.000444164069189,
            -1.0002375019398182,
            -1.0001007143506702,
            -1.0002722426152517,
            -1.0012767673483693
           ]
          },
          {
           "label": "max_depth",
           "range": [
            4,
            10
           ],
           "values": [
            4,
            5,
            7,
            5,
            6,
            9,
            8,
            8,
            10,
            10,
            9,
            9,
            10,
            9,
            9,
            9,
            9,
            8,
            10,
            10,
            10,
            10,
            9,
            9,
            10,
            10,
            10,
            10,
            10,
            10,
            10,
            10,
            10,
            10,
            10,
            10,
            9,
            10,
            10,
            10,
            10,
            10,
            10,
            10,
            10,
            10,
            10,
            10,
            10,
            10,
            10,
            10,
            10,
            10,
            10,
            10,
            10,
            10,
            10,
            10,
            10,
            10,
            10,
            10,
            10,
            10,
            10,
            10,
            10,
            10,
            10,
            10,
            10,
            10,
            10,
            10,
            10,
            10,
            10,
            10,
            10,
            10,
            10,
            10,
            10,
            10,
            10,
            10,
            10
           ]
          },
          {
           "label": "max_leaves",
           "range": [
            0,
            100
           ],
           "values": [
            55,
            73,
            53,
            23,
            31,
            24,
            0,
            17,
            97,
            96,
            99,
            75,
            100,
            88,
            88,
            87,
            79,
            77,
            80,
            92,
            93,
            87,
            77,
            90,
            96,
            95,
            90,
            97,
            97,
            99,
            100,
            100,
            99,
            100,
            95,
            100,
            95,
            85,
            90,
            90,
            92,
            94,
            86,
            88,
            86,
            88,
            90,
            85,
            85,
            76,
            67,
            76,
            100,
            77,
            77,
            84,
            80,
            79,
            79,
            79,
            84,
            84,
            80,
            79,
            80,
            79,
            86,
            85,
            82,
            84,
            84,
            84,
            79,
            79,
            80,
            78,
            80,
            78,
            79,
            79,
            80,
            79,
            84,
            90,
            88,
            79,
            85,
            81,
            79
           ]
          },
          {
           "label": "min_child_weight",
           "range": [
            1,
            5
           ],
           "values": [
            4,
            3,
            4,
            2,
            3,
            1,
            1,
            2,
            2,
            1,
            1,
            1,
            1,
            1,
            2,
            2,
            3,
            3,
            3,
            2,
            2,
            2,
            3,
            3,
            3,
            4,
            4,
            4,
            4,
            5,
            5,
            5,
            5,
            5,
            5,
            5,
            5,
            5,
            5,
            5,
            4,
            5,
            3,
            4,
            4,
            4,
            3,
            5,
            5,
            5,
            5,
            5,
            5,
            5,
            5,
            5,
            5,
            5,
            5,
            5,
            5,
            5,
            5,
            5,
            5,
            5,
            5,
            5,
            5,
            5,
            5,
            5,
            5,
            5,
            5,
            5,
            5,
            5,
            5,
            5,
            5,
            5,
            5,
            5,
            5,
            5,
            5,
            5,
            5
           ]
          },
          {
           "label": "min_frequency",
           "range": [
            -7.64982359447209,
            -0.9173853897988831
           ],
           "ticktext": [
            "2.24e-08",
            "1e-07",
            "1e-06",
            "1e-05",
            "0.0001",
            "0.001",
            "0.01",
            "0.1",
            "0.121"
           ],
           "tickvals": [
            -7.64982359447209,
            -7,
            -6,
            -5,
            -4,
            -3,
            -2,
            -1,
            -0.9173853897988831
           ],
           "values": [
            -2.5213620913210937,
            -2.096036754143715,
            -3.1118119145793375,
            -4.530390618563774,
            -3.985306592925308,
            -0.9173853897988831,
            -6.405954144299551,
            -5.154855221067024,
            -6.7396029319103175,
            -6.698801420331527,
            -6.874204083735315,
            -7.637150411225133,
            -7.024528451395132,
            -7.339424799026441,
            -7.303143063153687,
            -7.230867377583001,
            -6.24250102561812,
            -6.188497743399965,
            -7.002794535539719,
            -6.705612038105468,
            -6.585359294860752,
            -5.892163013702276,
            -6.301125956590845,
            -5.681049649793773,
            -5.793846818134247,
            -5.562089106523332,
            -5.570535070359878,
            -5.747505856312706,
            -5.554177889408722,
            -5.950593409633517,
            -5.944323608273988,
            -5.927242893921543,
            -5.992675003664106,
            -5.224728834976251,
            -5.643792224330551,
            -6.078177443723222,
            -5.430445702873066,
            -5.734295702750614,
            -6.3560430830620565,
            -5.409052066606741,
            -4.747769710390246,
            -6.3951809077529145,
            -6.16788487530784,
            -6.232794968914907,
            -5.8203770334104155,
            -6.213283763285329,
            -6.361988858300273,
            -6.428496178543897,
            -6.6743012295955,
            -6.586434692224447,
            -6.635237193954685,
            -6.933313332685319,
            -5.494871197698685,
            -6.052571535494167,
            -6.09210912321435,
            -6.032173852131857,
            -6.269928263025702,
            -6.280638820592343,
            -6.1523147629978805,
            -6.163410457906317,
            -6.068881041801202,
            -6.418752108737828,
            -5.881654386968147,
            -5.843796605308453,
            -5.836240692547726,
            -6.225283776417937,
            -5.198670706287593,
            -5.711334275333415,
            -5.487107918548633,
            -5.783207585606425,
            -5.753793069712485,
            -5.815421269842407,
            -5.452721805481478,
            -3.3048405457859933,
            -3.679092144577014,
            -3.634882516571603,
            -3.49916096860387,
            -3.3779130352860154,
            -3.491622941580256,
            -5.731171448780281,
            -5.8620389426418695,
            -5.368871016238634,
            -5.996720515229554,
            -3.40041581997018,
            -4.91825242118169,
            -7.2888548654124365,
            -3.363501745506191,
            -7.64982359447209,
            -6.98116109496904
           ]
          },
          {
           "label": "n_estimators",
           "range": [
            67,
            979
           ],
           "values": [
            322,
            422,
            216,
            357,
            519,
            129,
            979,
            368,
            269,
            261,
            536,
            67,
            511,
            517,
            493,
            494,
            434,
            449,
            471,
            498,
            400,
            202,
            408,
            403,
            354,
            372,
            361,
            370,
            181,
            308,
            306,
            317,
            235,
            152,
            256,
            236,
            71,
            107,
            337,
            347,
            257,
            328,
            471,
            414,
            260,
            430,
            472,
            471,
            833,
            451,
            800,
            830,
            478,
            480,
            868,
            451,
            488,
            451,
            494,
            484,
            501,
            492,
            492,
            498,
            517,
            453,
            464,
            449,
            462,
            455,
            406,
            395,
            463,
            456,
            458,
            444,
            826,
            834,
            452,
            459,
            456,
            534,
            421,
            157,
            400,
            469,
            425,
            342,
            320
           ]
          },
          {
           "label": "reg_alpha",
           "range": [
            -7.522576827123454,
            -0.32213053577092354
           ],
           "ticktext": [
            "3e-08",
            "1e-07",
            "1e-06",
            "1e-05",
            "0.0001",
            "0.001",
            "0.01",
            "0.1",
            "0.476"
           ],
           "tickvals": [
            -7.522576827123454,
            -7,
            -6,
            -5,
            -4,
            -3,
            -2,
            -1,
            -0.32213053577092354
           ],
           "values": [
            -4.615148319004313,
            -7.522576827123454,
            -1.2045456473776834,
            -2.9521910091640984,
            -0.8528866950629226,
            -3.420344340068216,
            -2.1090551871346084,
            -2.1563563318129315,
            -4.548546502803596,
            -4.50958391474868,
            -5.189965450667285,
            -5.1769325366433785,
            -4.429984831025939,
            -4.14818237917354,
            -3.9030462431965596,
            -5.873262593574187,
            -3.979440182181714,
            -3.9206184244862206,
            -4.549652164293576,
            -4.429883639639039,
            -4.0979994515490485,
            -5.51275048746464,
            -3.830597014628508,
            -3.6188699482943245,
            -3.7346229943850684,
            -3.2166608604074693,
            -3.261061836071607,
            -3.3551011550627314,
            -3.413014947355787,
            -3.005247580762019,
            -2.8829584464449316,
            -2.5403866573208553,
            -2.7982792731909876,
            -2.3422294678229147,
            -3.0235893508493525,
            -1.8221711324928733,
            -3.5237262438545254,
            -3.0216801768595363,
            -2.967584597550637,
            -3.313323944113446,
            -3.3198871490657393,
            -2.699125816429502,
            -2.934265390813643,
            -2.928867514218944,
            -1.9265679098707025,
            -2.863543774659087,
            -3.6884231520184705,
            -2.6188403196937733,
            -2.4400238427477143,
            -2.6351613833092244,
            -2.359220288369198,
            -2.6147300898588597,
            -2.9044664300676377,
            -2.437647474036565,
            -2.441733878780025,
            -2.2233495494115822,
            -2.457964486672629,
            -2.431866195665867,
            -1.7376793957102001,
            -2.023888198662238,
            -1.5234861790487202,
            -2.2513934809615366,
            -2.508219000986836,
            -2.3955878862902207,
            -2.4175135999575077,
            -2.558428792905678,
            -2.2851529597045346,
            -2.307926792666546,
            -2.327748458038277,
            -2.1981132107551113,
            -2.2443519744861042,
            -1.9572029437039116,
            -2.2887848146020358,
            -2.2897878196621235,
            -1.5936448129055851,
            -1.2588610196287497,
            -1.4621718590838568,
            -1.2038300471128585,
            -2.159174272939033,
            -2.3383435032336055,
            -2.425406088244698,
            -1.5404911651374857,
            -3.851156182357926,
            -2.3859308000399997,
            -1.0567451424975485,
            -0.853397255407268,
            -2.302160965301519,
            -2.1651555074473348,
            -0.32213053577092354
           ]
          },
          {
           "label": "reg_lambda",
           "range": [
            -7.991804516036473,
            -0.1538864129230768
           ],
           "ticktext": [
            "1.02e-08",
            "1e-07",
            "1e-06",
            "1e-05",
            "0.0001",
            "0.001",
            "0.01",
            "0.1",
            "0.702"
           ],
           "tickvals": [
            -7.991804516036473,
            -7,
            -6,
            -5,
            -4,
            -3,
            -2,
            -1,
            -0.1538864129230768
           ],
           "values": [
            -0.1538864129230768,
            -4.815645957356549,
            -2.2043574011149185,
            -7.2631604804393985,
            -0.44671985436896344,
            -7.234299867100903,
            -7.969294846129964,
            -7.991804516036473,
            -5.857668480420284,
            -6.067959031596687,
            -6.396179889518434,
            -7.01662377150116,
            -5.5221045258936625,
            -5.299963744107928,
            -5.28364803886887,
            -5.470622264297994,
            -4.149467412415432,
            -3.7985432940799413,
            -5.372797402425629,
            -5.585061701970647,
            -5.566857522821306,
            -4.919604507641611,
            -5.148283417251762,
            -5.247920479811053,
            -5.097071288164215,
            -4.874340883847256,
            -4.745900602432819,
            -6.159800705395878,
            -5.9358422703827864,
            -6.180547716614374,
            -6.286928660789197,
            -6.344168159240726,
            -6.668096743711334,
            -6.442967011633006,
            -6.113275363647787,
            -6.090810515171786,
            -6.8835598176762485,
            -7.320101572643797,
            -6.437310085374403,
            -6.4873625033461835,
            -6.752337729591142,
            -5.338098781846739,
            -5.856408946098974,
            -6.009924475493774,
            -5.447285373467102,
            -6.058756528634857,
            -6.174059794829527,
            -6.86658059884736,
            -6.939756487085623,
            -6.941499621983283,
            -6.838067097807641,
            -7.50931906662825,
            -7.035223593809172,
            -7.005276768860555,
            -6.978192753040935,
            -6.815580884894568,
            -7.032421752836925,
            -7.056431355787471,
            -7.104318868511227,
            -7.467405406565155,
            -7.091464712198276,
            -7.673850537041931,
            -6.701597179406811,
            -6.661110394395,
            -7.060326898977041,
            -6.889542592661228,
            -6.576976083450038,
            -6.695230124643678,
            -6.7408993079379655,
            -7.101103078503769,
            -6.693288692968553,
            -6.358791850088195,
            -7.089156693231827,
            -7.1359162414972275,
            -7.124400849817271,
            -7.122681140979571,
            -7.55694562615653,
            -6.9867963559054385,
            -7.062621248872424,
            -7.038965430052098,
            -6.8927570254286925,
            -6.206877804643319,
            -7.48281164395382,
            -7.000003481207335,
            -7.363503378093491,
            -6.749268590411931,
            -7.143080268465725,
            -6.944132540867465,
            -6.975660162480731
           ]
          }
         ],
         "labelangle": 30,
         "labelside": "bottom",
         "line": {
          "color": [
           3736.9329363223615,
           4467.593146443767,
           10092.241170984238,
           3336.300526629831,
           4538.5598617748155,
           6068.9768493775155,
           2379.2998079623576,
           3128.7911022449803,
           2467.6622495389,
           2401.3404405927754,
           2328.6930611992266,
           3758.2224122731177,
           2306.6584174644217,
           2338.5213122812397,
           2262.7757390698357,
           2292.1555352623554,
           2293.8801975263036,
           2309.422676521368,
           2253.044929898401,
           2254.5199725370453,
           2283.386907381791,
           2399.0013939430855,
           2289.4373156255238,
           2238.382025224262,
           2283.272903370745,
           2223.6315315394972,
           2253.1685929378355,
           2225.5935790524395,
           2398.0347711267605,
           2224.03277411867,
           2218.344457860444,
           2219.44045817876,
           2296.836214225457,
           2372.1459928188924,
           2229.6712084027604,
           2303.8131302463216,
           2848.9956747319857,
           2550.522296048426,
           2232.3264905186325,
           2268.1786670544097,
           2352.729507743073,
           2270.84446162653,
           2205.9338144753942,
           2239.686069869739,
           2239.969324246259,
           2230.1372085049356,
           2235.2021633381014,
           2199.436602689051,
           2169.3374614549275,
           2220.2252615628668,
           2158.145589520194,
           2118.9338740778003,
           2202.170803139147,
           2151.551904689858,
           2133.503403886863,
           2200.7464423585784,
           2205.8108453782593,
           2191.754971397395,
           2164.1982601992163,
           2160.7056137279405,
           2162.517400627725,
           2206.9689764563946,
           2172.0924546301244,
           2170.0705468160527,
           2188.1324635639357,
           2221.964478767134,
           2179.39964936101,
           2184.2216492313255,
           2172.7508565389735,
           2191.2972157489207,
           2179.9508024710763,
           2215.040217214747,
           2192.995135690445,
           2164.1116674002346,
           2189.4518299576102,
           2195.2622699085136,
           2110.966284032319,
           2139.252071019869,
           2141.135040058057,
           2181.5450281441254,
           2172.751739604292,
           2159.92559605681,
           2212.495632650067,
           2339.979663626289,
           2207.9271062573357,
           2171.0414174500124,
           2171.939674014137,
           2189.2807712158365,
           2205.4642198896504
          ],
          "colorbar": {
           "title": {
            "text": "Objective Value"
           }
          },
          "colorscale": [
           [
            0,
            "rgb(247,251,255)"
           ],
           [
            0.125,
            "rgb(222,235,247)"
           ],
           [
            0.25,
            "rgb(198,219,239)"
           ],
           [
            0.375,
            "rgb(158,202,225)"
           ],
           [
            0.5,
            "rgb(107,174,214)"
           ],
           [
            0.625,
            "rgb(66,146,198)"
           ],
           [
            0.75,
            "rgb(33,113,181)"
           ],
           [
            0.875,
            "rgb(8,81,156)"
           ],
           [
            1,
            "rgb(8,48,107)"
           ]
          ],
          "reversescale": true,
          "showscale": true
         },
         "type": "parcoords"
        }
       ],
       "layout": {
        "template": {
         "data": {
          "bar": [
           {
            "error_x": {
             "color": "#2a3f5f"
            },
            "error_y": {
             "color": "#2a3f5f"
            },
            "marker": {
             "line": {
              "color": "#E5ECF6",
              "width": 0.5
             },
             "pattern": {
              "fillmode": "overlay",
              "size": 10,
              "solidity": 0.2
             }
            },
            "type": "bar"
           }
          ],
          "barpolar": [
           {
            "marker": {
             "line": {
              "color": "#E5ECF6",
              "width": 0.5
             },
             "pattern": {
              "fillmode": "overlay",
              "size": 10,
              "solidity": 0.2
             }
            },
            "type": "barpolar"
           }
          ],
          "carpet": [
           {
            "aaxis": {
             "endlinecolor": "#2a3f5f",
             "gridcolor": "white",
             "linecolor": "white",
             "minorgridcolor": "white",
             "startlinecolor": "#2a3f5f"
            },
            "baxis": {
             "endlinecolor": "#2a3f5f",
             "gridcolor": "white",
             "linecolor": "white",
             "minorgridcolor": "white",
             "startlinecolor": "#2a3f5f"
            },
            "type": "carpet"
           }
          ],
          "choropleth": [
           {
            "colorbar": {
             "outlinewidth": 0,
             "ticks": ""
            },
            "type": "choropleth"
           }
          ],
          "contour": [
           {
            "colorbar": {
             "outlinewidth": 0,
             "ticks": ""
            },
            "colorscale": [
             [
              0,
              "#0d0887"
             ],
             [
              0.1111111111111111,
              "#46039f"
             ],
             [
              0.2222222222222222,
              "#7201a8"
             ],
             [
              0.3333333333333333,
              "#9c179e"
             ],
             [
              0.4444444444444444,
              "#bd3786"
             ],
             [
              0.5555555555555556,
              "#d8576b"
             ],
             [
              0.6666666666666666,
              "#ed7953"
             ],
             [
              0.7777777777777778,
              "#fb9f3a"
             ],
             [
              0.8888888888888888,
              "#fdca26"
             ],
             [
              1,
              "#f0f921"
             ]
            ],
            "type": "contour"
           }
          ],
          "contourcarpet": [
           {
            "colorbar": {
             "outlinewidth": 0,
             "ticks": ""
            },
            "type": "contourcarpet"
           }
          ],
          "heatmap": [
           {
            "colorbar": {
             "outlinewidth": 0,
             "ticks": ""
            },
            "colorscale": [
             [
              0,
              "#0d0887"
             ],
             [
              0.1111111111111111,
              "#46039f"
             ],
             [
              0.2222222222222222,
              "#7201a8"
             ],
             [
              0.3333333333333333,
              "#9c179e"
             ],
             [
              0.4444444444444444,
              "#bd3786"
             ],
             [
              0.5555555555555556,
              "#d8576b"
             ],
             [
              0.6666666666666666,
              "#ed7953"
             ],
             [
              0.7777777777777778,
              "#fb9f3a"
             ],
             [
              0.8888888888888888,
              "#fdca26"
             ],
             [
              1,
              "#f0f921"
             ]
            ],
            "type": "heatmap"
           }
          ],
          "heatmapgl": [
           {
            "colorbar": {
             "outlinewidth": 0,
             "ticks": ""
            },
            "colorscale": [
             [
              0,
              "#0d0887"
             ],
             [
              0.1111111111111111,
              "#46039f"
             ],
             [
              0.2222222222222222,
              "#7201a8"
             ],
             [
              0.3333333333333333,
              "#9c179e"
             ],
             [
              0.4444444444444444,
              "#bd3786"
             ],
             [
              0.5555555555555556,
              "#d8576b"
             ],
             [
              0.6666666666666666,
              "#ed7953"
             ],
             [
              0.7777777777777778,
              "#fb9f3a"
             ],
             [
              0.8888888888888888,
              "#fdca26"
             ],
             [
              1,
              "#f0f921"
             ]
            ],
            "type": "heatmapgl"
           }
          ],
          "histogram": [
           {
            "marker": {
             "pattern": {
              "fillmode": "overlay",
              "size": 10,
              "solidity": 0.2
             }
            },
            "type": "histogram"
           }
          ],
          "histogram2d": [
           {
            "colorbar": {
             "outlinewidth": 0,
             "ticks": ""
            },
            "colorscale": [
             [
              0,
              "#0d0887"
             ],
             [
              0.1111111111111111,
              "#46039f"
             ],
             [
              0.2222222222222222,
              "#7201a8"
             ],
             [
              0.3333333333333333,
              "#9c179e"
             ],
             [
              0.4444444444444444,
              "#bd3786"
             ],
             [
              0.5555555555555556,
              "#d8576b"
             ],
             [
              0.6666666666666666,
              "#ed7953"
             ],
             [
              0.7777777777777778,
              "#fb9f3a"
             ],
             [
              0.8888888888888888,
              "#fdca26"
             ],
             [
              1,
              "#f0f921"
             ]
            ],
            "type": "histogram2d"
           }
          ],
          "histogram2dcontour": [
           {
            "colorbar": {
             "outlinewidth": 0,
             "ticks": ""
            },
            "colorscale": [
             [
              0,
              "#0d0887"
             ],
             [
              0.1111111111111111,
              "#46039f"
             ],
             [
              0.2222222222222222,
              "#7201a8"
             ],
             [
              0.3333333333333333,
              "#9c179e"
             ],
             [
              0.4444444444444444,
              "#bd3786"
             ],
             [
              0.5555555555555556,
              "#d8576b"
             ],
             [
              0.6666666666666666,
              "#ed7953"
             ],
             [
              0.7777777777777778,
              "#fb9f3a"
             ],
             [
              0.8888888888888888,
              "#fdca26"
             ],
             [
              1,
              "#f0f921"
             ]
            ],
            "type": "histogram2dcontour"
           }
          ],
          "mesh3d": [
           {
            "colorbar": {
             "outlinewidth": 0,
             "ticks": ""
            },
            "type": "mesh3d"
           }
          ],
          "parcoords": [
           {
            "line": {
             "colorbar": {
              "outlinewidth": 0,
              "ticks": ""
             }
            },
            "type": "parcoords"
           }
          ],
          "pie": [
           {
            "automargin": true,
            "type": "pie"
           }
          ],
          "scatter": [
           {
            "fillpattern": {
             "fillmode": "overlay",
             "size": 10,
             "solidity": 0.2
            },
            "type": "scatter"
           }
          ],
          "scatter3d": [
           {
            "line": {
             "colorbar": {
              "outlinewidth": 0,
              "ticks": ""
             }
            },
            "marker": {
             "colorbar": {
              "outlinewidth": 0,
              "ticks": ""
             }
            },
            "type": "scatter3d"
           }
          ],
          "scattercarpet": [
           {
            "marker": {
             "colorbar": {
              "outlinewidth": 0,
              "ticks": ""
             }
            },
            "type": "scattercarpet"
           }
          ],
          "scattergeo": [
           {
            "marker": {
             "colorbar": {
              "outlinewidth": 0,
              "ticks": ""
             }
            },
            "type": "scattergeo"
           }
          ],
          "scattergl": [
           {
            "marker": {
             "colorbar": {
              "outlinewidth": 0,
              "ticks": ""
             }
            },
            "type": "scattergl"
           }
          ],
          "scattermapbox": [
           {
            "marker": {
             "colorbar": {
              "outlinewidth": 0,
              "ticks": ""
             }
            },
            "type": "scattermapbox"
           }
          ],
          "scatterpolar": [
           {
            "marker": {
             "colorbar": {
              "outlinewidth": 0,
              "ticks": ""
             }
            },
            "type": "scatterpolar"
           }
          ],
          "scatterpolargl": [
           {
            "marker": {
             "colorbar": {
              "outlinewidth": 0,
              "ticks": ""
             }
            },
            "type": "scatterpolargl"
           }
          ],
          "scatterternary": [
           {
            "marker": {
             "colorbar": {
              "outlinewidth": 0,
              "ticks": ""
             }
            },
            "type": "scatterternary"
           }
          ],
          "surface": [
           {
            "colorbar": {
             "outlinewidth": 0,
             "ticks": ""
            },
            "colorscale": [
             [
              0,
              "#0d0887"
             ],
             [
              0.1111111111111111,
              "#46039f"
             ],
             [
              0.2222222222222222,
              "#7201a8"
             ],
             [
              0.3333333333333333,
              "#9c179e"
             ],
             [
              0.4444444444444444,
              "#bd3786"
             ],
             [
              0.5555555555555556,
              "#d8576b"
             ],
             [
              0.6666666666666666,
              "#ed7953"
             ],
             [
              0.7777777777777778,
              "#fb9f3a"
             ],
             [
              0.8888888888888888,
              "#fdca26"
             ],
             [
              1,
              "#f0f921"
             ]
            ],
            "type": "surface"
           }
          ],
          "table": [
           {
            "cells": {
             "fill": {
              "color": "#EBF0F8"
             },
             "line": {
              "color": "white"
             }
            },
            "header": {
             "fill": {
              "color": "#C8D4E3"
             },
             "line": {
              "color": "white"
             }
            },
            "type": "table"
           }
          ]
         },
         "layout": {
          "annotationdefaults": {
           "arrowcolor": "#2a3f5f",
           "arrowhead": 0,
           "arrowwidth": 1
          },
          "autotypenumbers": "strict",
          "coloraxis": {
           "colorbar": {
            "outlinewidth": 0,
            "ticks": ""
           }
          },
          "colorscale": {
           "diverging": [
            [
             0,
             "#8e0152"
            ],
            [
             0.1,
             "#c51b7d"
            ],
            [
             0.2,
             "#de77ae"
            ],
            [
             0.3,
             "#f1b6da"
            ],
            [
             0.4,
             "#fde0ef"
            ],
            [
             0.5,
             "#f7f7f7"
            ],
            [
             0.6,
             "#e6f5d0"
            ],
            [
             0.7,
             "#b8e186"
            ],
            [
             0.8,
             "#7fbc41"
            ],
            [
             0.9,
             "#4d9221"
            ],
            [
             1,
             "#276419"
            ]
           ],
           "sequential": [
            [
             0,
             "#0d0887"
            ],
            [
             0.1111111111111111,
             "#46039f"
            ],
            [
             0.2222222222222222,
             "#7201a8"
            ],
            [
             0.3333333333333333,
             "#9c179e"
            ],
            [
             0.4444444444444444,
             "#bd3786"
            ],
            [
             0.5555555555555556,
             "#d8576b"
            ],
            [
             0.6666666666666666,
             "#ed7953"
            ],
            [
             0.7777777777777778,
             "#fb9f3a"
            ],
            [
             0.8888888888888888,
             "#fdca26"
            ],
            [
             1,
             "#f0f921"
            ]
           ],
           "sequentialminus": [
            [
             0,
             "#0d0887"
            ],
            [
             0.1111111111111111,
             "#46039f"
            ],
            [
             0.2222222222222222,
             "#7201a8"
            ],
            [
             0.3333333333333333,
             "#9c179e"
            ],
            [
             0.4444444444444444,
             "#bd3786"
            ],
            [
             0.5555555555555556,
             "#d8576b"
            ],
            [
             0.6666666666666666,
             "#ed7953"
            ],
            [
             0.7777777777777778,
             "#fb9f3a"
            ],
            [
             0.8888888888888888,
             "#fdca26"
            ],
            [
             1,
             "#f0f921"
            ]
           ]
          },
          "colorway": [
           "#636efa",
           "#EF553B",
           "#00cc96",
           "#ab63fa",
           "#FFA15A",
           "#19d3f3",
           "#FF6692",
           "#B6E880",
           "#FF97FF",
           "#FECB52"
          ],
          "font": {
           "color": "#2a3f5f"
          },
          "geo": {
           "bgcolor": "white",
           "lakecolor": "white",
           "landcolor": "#E5ECF6",
           "showlakes": true,
           "showland": true,
           "subunitcolor": "white"
          },
          "hoverlabel": {
           "align": "left"
          },
          "hovermode": "closest",
          "mapbox": {
           "style": "light"
          },
          "paper_bgcolor": "white",
          "plot_bgcolor": "#E5ECF6",
          "polar": {
           "angularaxis": {
            "gridcolor": "white",
            "linecolor": "white",
            "ticks": ""
           },
           "bgcolor": "#E5ECF6",
           "radialaxis": {
            "gridcolor": "white",
            "linecolor": "white",
            "ticks": ""
           }
          },
          "scene": {
           "xaxis": {
            "backgroundcolor": "#E5ECF6",
            "gridcolor": "white",
            "gridwidth": 2,
            "linecolor": "white",
            "showbackground": true,
            "ticks": "",
            "zerolinecolor": "white"
           },
           "yaxis": {
            "backgroundcolor": "#E5ECF6",
            "gridcolor": "white",
            "gridwidth": 2,
            "linecolor": "white",
            "showbackground": true,
            "ticks": "",
            "zerolinecolor": "white"
           },
           "zaxis": {
            "backgroundcolor": "#E5ECF6",
            "gridcolor": "white",
            "gridwidth": 2,
            "linecolor": "white",
            "showbackground": true,
            "ticks": "",
            "zerolinecolor": "white"
           }
          },
          "shapedefaults": {
           "line": {
            "color": "#2a3f5f"
           }
          },
          "ternary": {
           "aaxis": {
            "gridcolor": "white",
            "linecolor": "white",
            "ticks": ""
           },
           "baxis": {
            "gridcolor": "white",
            "linecolor": "white",
            "ticks": ""
           },
           "bgcolor": "#E5ECF6",
           "caxis": {
            "gridcolor": "white",
            "linecolor": "white",
            "ticks": ""
           }
          },
          "title": {
           "x": 0.05
          },
          "xaxis": {
           "automargin": true,
           "gridcolor": "white",
           "linecolor": "white",
           "ticks": "",
           "title": {
            "standoff": 15
           },
           "zerolinecolor": "white",
           "zerolinewidth": 2
          },
          "yaxis": {
           "automargin": true,
           "gridcolor": "white",
           "linecolor": "white",
           "ticks": "",
           "title": {
            "standoff": 15
           },
           "zerolinecolor": "white",
           "zerolinewidth": 2
          }
         }
        },
        "title": {
         "text": "Parallel Coordinate Plot"
        }
       }
      }
     },
     "metadata": {},
     "output_type": "display_data"
    }
   ],
   "source": [
    "# Gráfico de coordenadas paralelas\n",
    "plot_parallel_coordinate(study)"
   ]
  },
  {
   "cell_type": "code",
   "execution_count": 53,
   "metadata": {},
   "outputs": [
    {
     "data": {
      "application/vnd.plotly.v1+json": {
       "config": {
        "plotlyServerURL": "https://plot.ly"
       },
       "data": [
        {
         "cliponaxis": false,
         "hovertemplate": [
          "n_estimators (IntDistribution): 0.006891206128774141<extra></extra>",
          "min_child_weight (IntDistribution): 0.008266202767890668<extra></extra>",
          "min_frequency (FloatDistribution): 0.024696009965950356<extra></extra>",
          "reg_lambda (FloatDistribution): 0.03249948949150429<extra></extra>",
          "reg_alpha (FloatDistribution): 0.045979552239410526<extra></extra>",
          "max_leaves (IntDistribution): 0.06845887760590237<extra></extra>",
          "max_depth (IntDistribution): 0.07372597627819714<extra></extra>",
          "learning_rate (FloatDistribution): 0.7394826855223706<extra></extra>"
         ],
         "name": "Objective Value",
         "orientation": "h",
         "text": [
          "<0.01",
          "<0.01",
          "0.02",
          "0.03",
          "0.05",
          "0.07",
          "0.07",
          "0.74"
         ],
         "textposition": "outside",
         "type": "bar",
         "x": [
          0.006891206128774141,
          0.008266202767890668,
          0.024696009965950356,
          0.03249948949150429,
          0.045979552239410526,
          0.06845887760590237,
          0.07372597627819714,
          0.7394826855223706
         ],
         "y": [
          "n_estimators",
          "min_child_weight",
          "min_frequency",
          "reg_lambda",
          "reg_alpha",
          "max_leaves",
          "max_depth",
          "learning_rate"
         ]
        }
       ],
       "layout": {
        "template": {
         "data": {
          "bar": [
           {
            "error_x": {
             "color": "#2a3f5f"
            },
            "error_y": {
             "color": "#2a3f5f"
            },
            "marker": {
             "line": {
              "color": "#E5ECF6",
              "width": 0.5
             },
             "pattern": {
              "fillmode": "overlay",
              "size": 10,
              "solidity": 0.2
             }
            },
            "type": "bar"
           }
          ],
          "barpolar": [
           {
            "marker": {
             "line": {
              "color": "#E5ECF6",
              "width": 0.5
             },
             "pattern": {
              "fillmode": "overlay",
              "size": 10,
              "solidity": 0.2
             }
            },
            "type": "barpolar"
           }
          ],
          "carpet": [
           {
            "aaxis": {
             "endlinecolor": "#2a3f5f",
             "gridcolor": "white",
             "linecolor": "white",
             "minorgridcolor": "white",
             "startlinecolor": "#2a3f5f"
            },
            "baxis": {
             "endlinecolor": "#2a3f5f",
             "gridcolor": "white",
             "linecolor": "white",
             "minorgridcolor": "white",
             "startlinecolor": "#2a3f5f"
            },
            "type": "carpet"
           }
          ],
          "choropleth": [
           {
            "colorbar": {
             "outlinewidth": 0,
             "ticks": ""
            },
            "type": "choropleth"
           }
          ],
          "contour": [
           {
            "colorbar": {
             "outlinewidth": 0,
             "ticks": ""
            },
            "colorscale": [
             [
              0,
              "#0d0887"
             ],
             [
              0.1111111111111111,
              "#46039f"
             ],
             [
              0.2222222222222222,
              "#7201a8"
             ],
             [
              0.3333333333333333,
              "#9c179e"
             ],
             [
              0.4444444444444444,
              "#bd3786"
             ],
             [
              0.5555555555555556,
              "#d8576b"
             ],
             [
              0.6666666666666666,
              "#ed7953"
             ],
             [
              0.7777777777777778,
              "#fb9f3a"
             ],
             [
              0.8888888888888888,
              "#fdca26"
             ],
             [
              1,
              "#f0f921"
             ]
            ],
            "type": "contour"
           }
          ],
          "contourcarpet": [
           {
            "colorbar": {
             "outlinewidth": 0,
             "ticks": ""
            },
            "type": "contourcarpet"
           }
          ],
          "heatmap": [
           {
            "colorbar": {
             "outlinewidth": 0,
             "ticks": ""
            },
            "colorscale": [
             [
              0,
              "#0d0887"
             ],
             [
              0.1111111111111111,
              "#46039f"
             ],
             [
              0.2222222222222222,
              "#7201a8"
             ],
             [
              0.3333333333333333,
              "#9c179e"
             ],
             [
              0.4444444444444444,
              "#bd3786"
             ],
             [
              0.5555555555555556,
              "#d8576b"
             ],
             [
              0.6666666666666666,
              "#ed7953"
             ],
             [
              0.7777777777777778,
              "#fb9f3a"
             ],
             [
              0.8888888888888888,
              "#fdca26"
             ],
             [
              1,
              "#f0f921"
             ]
            ],
            "type": "heatmap"
           }
          ],
          "heatmapgl": [
           {
            "colorbar": {
             "outlinewidth": 0,
             "ticks": ""
            },
            "colorscale": [
             [
              0,
              "#0d0887"
             ],
             [
              0.1111111111111111,
              "#46039f"
             ],
             [
              0.2222222222222222,
              "#7201a8"
             ],
             [
              0.3333333333333333,
              "#9c179e"
             ],
             [
              0.4444444444444444,
              "#bd3786"
             ],
             [
              0.5555555555555556,
              "#d8576b"
             ],
             [
              0.6666666666666666,
              "#ed7953"
             ],
             [
              0.7777777777777778,
              "#fb9f3a"
             ],
             [
              0.8888888888888888,
              "#fdca26"
             ],
             [
              1,
              "#f0f921"
             ]
            ],
            "type": "heatmapgl"
           }
          ],
          "histogram": [
           {
            "marker": {
             "pattern": {
              "fillmode": "overlay",
              "size": 10,
              "solidity": 0.2
             }
            },
            "type": "histogram"
           }
          ],
          "histogram2d": [
           {
            "colorbar": {
             "outlinewidth": 0,
             "ticks": ""
            },
            "colorscale": [
             [
              0,
              "#0d0887"
             ],
             [
              0.1111111111111111,
              "#46039f"
             ],
             [
              0.2222222222222222,
              "#7201a8"
             ],
             [
              0.3333333333333333,
              "#9c179e"
             ],
             [
              0.4444444444444444,
              "#bd3786"
             ],
             [
              0.5555555555555556,
              "#d8576b"
             ],
             [
              0.6666666666666666,
              "#ed7953"
             ],
             [
              0.7777777777777778,
              "#fb9f3a"
             ],
             [
              0.8888888888888888,
              "#fdca26"
             ],
             [
              1,
              "#f0f921"
             ]
            ],
            "type": "histogram2d"
           }
          ],
          "histogram2dcontour": [
           {
            "colorbar": {
             "outlinewidth": 0,
             "ticks": ""
            },
            "colorscale": [
             [
              0,
              "#0d0887"
             ],
             [
              0.1111111111111111,
              "#46039f"
             ],
             [
              0.2222222222222222,
              "#7201a8"
             ],
             [
              0.3333333333333333,
              "#9c179e"
             ],
             [
              0.4444444444444444,
              "#bd3786"
             ],
             [
              0.5555555555555556,
              "#d8576b"
             ],
             [
              0.6666666666666666,
              "#ed7953"
             ],
             [
              0.7777777777777778,
              "#fb9f3a"
             ],
             [
              0.8888888888888888,
              "#fdca26"
             ],
             [
              1,
              "#f0f921"
             ]
            ],
            "type": "histogram2dcontour"
           }
          ],
          "mesh3d": [
           {
            "colorbar": {
             "outlinewidth": 0,
             "ticks": ""
            },
            "type": "mesh3d"
           }
          ],
          "parcoords": [
           {
            "line": {
             "colorbar": {
              "outlinewidth": 0,
              "ticks": ""
             }
            },
            "type": "parcoords"
           }
          ],
          "pie": [
           {
            "automargin": true,
            "type": "pie"
           }
          ],
          "scatter": [
           {
            "fillpattern": {
             "fillmode": "overlay",
             "size": 10,
             "solidity": 0.2
            },
            "type": "scatter"
           }
          ],
          "scatter3d": [
           {
            "line": {
             "colorbar": {
              "outlinewidth": 0,
              "ticks": ""
             }
            },
            "marker": {
             "colorbar": {
              "outlinewidth": 0,
              "ticks": ""
             }
            },
            "type": "scatter3d"
           }
          ],
          "scattercarpet": [
           {
            "marker": {
             "colorbar": {
              "outlinewidth": 0,
              "ticks": ""
             }
            },
            "type": "scattercarpet"
           }
          ],
          "scattergeo": [
           {
            "marker": {
             "colorbar": {
              "outlinewidth": 0,
              "ticks": ""
             }
            },
            "type": "scattergeo"
           }
          ],
          "scattergl": [
           {
            "marker": {
             "colorbar": {
              "outlinewidth": 0,
              "ticks": ""
             }
            },
            "type": "scattergl"
           }
          ],
          "scattermapbox": [
           {
            "marker": {
             "colorbar": {
              "outlinewidth": 0,
              "ticks": ""
             }
            },
            "type": "scattermapbox"
           }
          ],
          "scatterpolar": [
           {
            "marker": {
             "colorbar": {
              "outlinewidth": 0,
              "ticks": ""
             }
            },
            "type": "scatterpolar"
           }
          ],
          "scatterpolargl": [
           {
            "marker": {
             "colorbar": {
              "outlinewidth": 0,
              "ticks": ""
             }
            },
            "type": "scatterpolargl"
           }
          ],
          "scatterternary": [
           {
            "marker": {
             "colorbar": {
              "outlinewidth": 0,
              "ticks": ""
             }
            },
            "type": "scatterternary"
           }
          ],
          "surface": [
           {
            "colorbar": {
             "outlinewidth": 0,
             "ticks": ""
            },
            "colorscale": [
             [
              0,
              "#0d0887"
             ],
             [
              0.1111111111111111,
              "#46039f"
             ],
             [
              0.2222222222222222,
              "#7201a8"
             ],
             [
              0.3333333333333333,
              "#9c179e"
             ],
             [
              0.4444444444444444,
              "#bd3786"
             ],
             [
              0.5555555555555556,
              "#d8576b"
             ],
             [
              0.6666666666666666,
              "#ed7953"
             ],
             [
              0.7777777777777778,
              "#fb9f3a"
             ],
             [
              0.8888888888888888,
              "#fdca26"
             ],
             [
              1,
              "#f0f921"
             ]
            ],
            "type": "surface"
           }
          ],
          "table": [
           {
            "cells": {
             "fill": {
              "color": "#EBF0F8"
             },
             "line": {
              "color": "white"
             }
            },
            "header": {
             "fill": {
              "color": "#C8D4E3"
             },
             "line": {
              "color": "white"
             }
            },
            "type": "table"
           }
          ]
         },
         "layout": {
          "annotationdefaults": {
           "arrowcolor": "#2a3f5f",
           "arrowhead": 0,
           "arrowwidth": 1
          },
          "autotypenumbers": "strict",
          "coloraxis": {
           "colorbar": {
            "outlinewidth": 0,
            "ticks": ""
           }
          },
          "colorscale": {
           "diverging": [
            [
             0,
             "#8e0152"
            ],
            [
             0.1,
             "#c51b7d"
            ],
            [
             0.2,
             "#de77ae"
            ],
            [
             0.3,
             "#f1b6da"
            ],
            [
             0.4,
             "#fde0ef"
            ],
            [
             0.5,
             "#f7f7f7"
            ],
            [
             0.6,
             "#e6f5d0"
            ],
            [
             0.7,
             "#b8e186"
            ],
            [
             0.8,
             "#7fbc41"
            ],
            [
             0.9,
             "#4d9221"
            ],
            [
             1,
             "#276419"
            ]
           ],
           "sequential": [
            [
             0,
             "#0d0887"
            ],
            [
             0.1111111111111111,
             "#46039f"
            ],
            [
             0.2222222222222222,
             "#7201a8"
            ],
            [
             0.3333333333333333,
             "#9c179e"
            ],
            [
             0.4444444444444444,
             "#bd3786"
            ],
            [
             0.5555555555555556,
             "#d8576b"
            ],
            [
             0.6666666666666666,
             "#ed7953"
            ],
            [
             0.7777777777777778,
             "#fb9f3a"
            ],
            [
             0.8888888888888888,
             "#fdca26"
            ],
            [
             1,
             "#f0f921"
            ]
           ],
           "sequentialminus": [
            [
             0,
             "#0d0887"
            ],
            [
             0.1111111111111111,
             "#46039f"
            ],
            [
             0.2222222222222222,
             "#7201a8"
            ],
            [
             0.3333333333333333,
             "#9c179e"
            ],
            [
             0.4444444444444444,
             "#bd3786"
            ],
            [
             0.5555555555555556,
             "#d8576b"
            ],
            [
             0.6666666666666666,
             "#ed7953"
            ],
            [
             0.7777777777777778,
             "#fb9f3a"
            ],
            [
             0.8888888888888888,
             "#fdca26"
            ],
            [
             1,
             "#f0f921"
            ]
           ]
          },
          "colorway": [
           "#636efa",
           "#EF553B",
           "#00cc96",
           "#ab63fa",
           "#FFA15A",
           "#19d3f3",
           "#FF6692",
           "#B6E880",
           "#FF97FF",
           "#FECB52"
          ],
          "font": {
           "color": "#2a3f5f"
          },
          "geo": {
           "bgcolor": "white",
           "lakecolor": "white",
           "landcolor": "#E5ECF6",
           "showlakes": true,
           "showland": true,
           "subunitcolor": "white"
          },
          "hoverlabel": {
           "align": "left"
          },
          "hovermode": "closest",
          "mapbox": {
           "style": "light"
          },
          "paper_bgcolor": "white",
          "plot_bgcolor": "#E5ECF6",
          "polar": {
           "angularaxis": {
            "gridcolor": "white",
            "linecolor": "white",
            "ticks": ""
           },
           "bgcolor": "#E5ECF6",
           "radialaxis": {
            "gridcolor": "white",
            "linecolor": "white",
            "ticks": ""
           }
          },
          "scene": {
           "xaxis": {
            "backgroundcolor": "#E5ECF6",
            "gridcolor": "white",
            "gridwidth": 2,
            "linecolor": "white",
            "showbackground": true,
            "ticks": "",
            "zerolinecolor": "white"
           },
           "yaxis": {
            "backgroundcolor": "#E5ECF6",
            "gridcolor": "white",
            "gridwidth": 2,
            "linecolor": "white",
            "showbackground": true,
            "ticks": "",
            "zerolinecolor": "white"
           },
           "zaxis": {
            "backgroundcolor": "#E5ECF6",
            "gridcolor": "white",
            "gridwidth": 2,
            "linecolor": "white",
            "showbackground": true,
            "ticks": "",
            "zerolinecolor": "white"
           }
          },
          "shapedefaults": {
           "line": {
            "color": "#2a3f5f"
           }
          },
          "ternary": {
           "aaxis": {
            "gridcolor": "white",
            "linecolor": "white",
            "ticks": ""
           },
           "baxis": {
            "gridcolor": "white",
            "linecolor": "white",
            "ticks": ""
           },
           "bgcolor": "#E5ECF6",
           "caxis": {
            "gridcolor": "white",
            "linecolor": "white",
            "ticks": ""
           }
          },
          "title": {
           "x": 0.05
          },
          "xaxis": {
           "automargin": true,
           "gridcolor": "white",
           "linecolor": "white",
           "ticks": "",
           "title": {
            "standoff": 15
           },
           "zerolinecolor": "white",
           "zerolinewidth": 2
          },
          "yaxis": {
           "automargin": true,
           "gridcolor": "white",
           "linecolor": "white",
           "ticks": "",
           "title": {
            "standoff": 15
           },
           "zerolinecolor": "white",
           "zerolinewidth": 2
          }
         }
        },
        "title": {
         "text": "Hyperparameter Importances"
        },
        "xaxis": {
         "title": {
          "text": "Hyperparameter Importance"
         }
        },
        "yaxis": {
         "title": {
          "text": "Hyperparameter"
         }
        }
       }
      }
     },
     "metadata": {},
     "output_type": "display_data"
    }
   ],
   "source": [
    "#  Gráfico de importancia de hiperparámetros\n",
    "plot_param_importances(study)"
   ]
  },
  {
   "cell_type": "markdown",
   "metadata": {},
   "source": [
    "En relación a las preguntas de esta sección:\n",
    "\n",
    "> ¿Desde qué *trial* se empiezan a observar mejoras notables en sus resultados?\n",
    "\n",
    "**R.** Desde el trial N°10 se empiezan a observar mejoras notables en los resultados, manteniéndose en torno a un `mean_absolute_error` de aproximadamente 2000 unidades de producto hasta el final del proceso de optimización.\n",
    "\n",
    "> ¿Qué tendencias puede observar a partir del gráfico de coordenadas paralelas?\n",
    "\n",
    "**R.** En virtud de la gráfica, se reconoce que los valores mínimos de `mean_absolute_error` se asocian a valores de `learning_rate`, `max_depth` y `reg_alpha` en el límite superior del rango de optimización, mientras que, a su vez, también se asocia a valores de `min_frequency` en el límite inferior. Para el resto de los hiperparámetros, no se distinguen patrones claros para establecer asociaciones con `mean_absolute_error`.\n",
    "\n",
    "> ¿Cuáles son los hiperparámetros con mayor importancia para la optimización de su modelo?\n",
    "\n",
    "**R.** El hiperparámetro de mayor importancia corresponde a `min_frequency`, seguido por `max_leaves`, `learning_rate`, y `n_estimators`, resultando que el resto de los hiperparámetros pueden considerarse con una importancia baja a nula para la optimización del modelo `XGBRegressor`."
   ]
  },
  {
   "cell_type": "markdown",
   "metadata": {
    "cell_id": "ac8a20f445d045a3becf1a518d410a7d",
    "deepnote_cell_type": "markdown"
   },
   "source": [
    "## 1.6 Síntesis de resultados (0.3)\n",
    "\n",
    "Finalmente, genere una tabla resumen del MAE obtenido en los 5 modelos entrenados (desde Baseline hasta XGBoost con Constraints, Optuna y Prunning) y compare sus resultados. ¿Qué modelo obtiene el mejor rendimiento? \n",
    "\n",
    "Por último, cargue el mejor modelo, prediga sobre el conjunto de test y reporte su MAE. ¿Existen diferencias con respecto a las métricas obtenidas en el conjunto de validación? ¿Porqué puede ocurrir esto?"
   ]
  },
  {
   "cell_type": "code",
   "execution_count": 54,
   "metadata": {},
   "outputs": [
    {
     "data": {
      "text/html": [
       "<div>\n",
       "<style scoped>\n",
       "    .dataframe tbody tr th:only-of-type {\n",
       "        vertical-align: middle;\n",
       "    }\n",
       "\n",
       "    .dataframe tbody tr th {\n",
       "        vertical-align: top;\n",
       "    }\n",
       "\n",
       "    .dataframe thead th {\n",
       "        text-align: right;\n",
       "    }\n",
       "</style>\n",
       "<table border=\"1\" class=\"dataframe\">\n",
       "  <thead>\n",
       "    <tr style=\"text-align: right;\">\n",
       "      <th></th>\n",
       "      <th>MAE</th>\n",
       "    </tr>\n",
       "  </thead>\n",
       "  <tbody>\n",
       "    <tr>\n",
       "      <th>Baseline</th>\n",
       "      <td>13254</td>\n",
       "    </tr>\n",
       "    <tr>\n",
       "      <th>XGBoost default</th>\n",
       "      <td>2643</td>\n",
       "    </tr>\n",
       "    <tr>\n",
       "      <th>XGBoost with Constraints</th>\n",
       "      <td>2767</td>\n",
       "    </tr>\n",
       "    <tr>\n",
       "      <th>XGBoost with Optuna</th>\n",
       "      <td>2050</td>\n",
       "    </tr>\n",
       "    <tr>\n",
       "      <th>XGBoost with Prunning</th>\n",
       "      <td>2110</td>\n",
       "    </tr>\n",
       "  </tbody>\n",
       "</table>\n",
       "</div>"
      ],
      "text/plain": [
       "                            MAE\n",
       "Baseline                  13254\n",
       "XGBoost default            2643\n",
       "XGBoost with Constraints   2767\n",
       "XGBoost with Optuna        2050\n",
       "XGBoost with Prunning      2110"
      ]
     },
     "execution_count": 54,
     "metadata": {},
     "output_type": "execute_result"
    }
   ],
   "source": [
    "# resultados modelo 1\n",
    "model_1 = pickle.load(open('Lab_09/model_1.pkl', 'rb'))\n",
    "mae_model_1 = mean_absolute_error(y_val, model_1.predict(X_val))\n",
    "\n",
    "# resultados modelo 2\n",
    "model_2 = pickle.load(open('Lab_09/model_2.pkl', 'rb'))\n",
    "mae_model_2 = mean_absolute_error(y_val, model_2.predict(X_val))\n",
    "\n",
    "# resultados modelo 3\n",
    "model_3 = pickle.load(open('Lab_09/model_3.pkl', 'rb'))\n",
    "mae_model_3 = mean_absolute_error(y_val, model_3.predict(X_val))\n",
    "\n",
    "# resultados modelo 4\n",
    "model_4 = pickle.load(open('Lab_09/model_4.pkl', 'rb'))\n",
    "mae_model_4 = mean_absolute_error(y_val, model_4.predict(X_val))\n",
    "\n",
    "# resultados modelo 5\n",
    "model_5 = pickle.load(open('Lab_09/model_5.pkl', 'rb'))\n",
    "mae_model_5 = mean_absolute_error(y_val, model_5.predict(X_val))\n",
    "\n",
    "# resumen de resultados\n",
    "summary = pd.DataFrame({'Baseline':[mae_model_1], \n",
    "                        'XGBoost default':[mae_model_2], \n",
    "                        'XGBoost with Constraints':[mae_model_3], \n",
    "                        'XGBoost with Optuna':[mae_model_4], \n",
    "                        'XGBoost with Prunning':[mae_model_5]\n",
    "                       }).T\n",
    "summary.columns = ['MAE']\n",
    "summary.MAE = summary.MAE.astype('int64')\n",
    "summary"
   ]
  },
  {
   "cell_type": "code",
   "execution_count": 55,
   "metadata": {},
   "outputs": [
    {
     "name": "stdout",
     "output_type": "stream",
     "text": [
      "MAE best model : 2120\n"
     ]
    }
   ],
   "source": [
    "y_pred = model_4.predict(X_test)\n",
    "mae = mean_absolute_error(y_test, y_pred)\n",
    "print(f'MAE best model : {mae:.0f}')"
   ]
  },
  {
   "cell_type": "markdown",
   "metadata": {},
   "source": [
    "En relación a las preguntas de esta sección:\n",
    "\n",
    "> ¿Qué modelo obtiene el mejor rendimiento? \n",
    "\n",
    "**R.** El modelo que obtiene el mejor rendimiento corresponde a XGBoost con Prunning, resultando un `mean_absolute_error` de 2056 unidades de producto.\n",
    "\n",
    "> ¿Existen diferencias con respecto a las métricas obtenidas en el conjunto de validación? ¿Porqué puede ocurrir esto?\n",
    "\n",
    "**R.**  Si bien se observa una diferencia del `mean_absolute_error` en el conjunto de test respecto a aquel obtenido en el conjunto de validación, esta puede considerarse mínima, por lo cual, es posible sostener que el modelo XGBoost con Prunning posee una capacidad de generalización satisfactoria. Ahora bien, cabe señalar que dicha diferencia se debe a que las predicciones se realizan sobre un conjunto que el modelo entrenado \"nunca ha visto\", adquiriendo importancia, en este sentido, el fenómeno de *overfitting* en la habilidad del modelo para generalizar sobre información nueva."
   ]
  },
  {
   "cell_type": "markdown",
   "metadata": {
    "cell_id": "5c4654d12037494fbd385b4dc6bd1059",
    "deepnote_cell_type": "markdown"
   },
   "source": [
    "# Conclusión\n",
    "Eso ha sido todo para el lab de hoy, recuerden que el laboratorio tiene un plazo de entrega de una semana. Cualquier duda del laboratorio, no duden en contactarnos por mail o U-cursos.\n",
    "\n",
    "<p align=\"center\">\n",
    "  <img src=\"https://media.tenor.com/8CT1AXElF_cAAAAC/gojo-satoru.gif\">\n",
    "</p>"
   ]
  },
  {
   "cell_type": "markdown",
   "metadata": {
    "cell_id": "5025de06759f4903a26916c80323bf25",
    "deepnote_cell_type": "markdown"
   },
   "source": []
  },
  {
   "cell_type": "markdown",
   "metadata": {
    "created_in_deepnote_cell": true,
    "deepnote_cell_type": "markdown"
   },
   "source": [
    "<a style='text-decoration:none;line-height:16px;display:flex;color:#5B5B62;padding:10px;justify-content:end;' href='https://deepnote.com?utm_source=created-in-deepnote-cell&projectId=87110296-876e-426f-b91d-aaf681223468' target=\"_blank\">\n",
    "<img alt='Created in deepnote.com' style='display:inline;max-height:16px;margin:0px;margin-right:7.5px;' src='data:image/svg+xml;base64,PD94bWwgdmVyc2lvbj0iMS4wIiBlbmNvZGluZz0iVVRGLTgiPz4KPHN2ZyB3aWR0aD0iODBweCIgaGVpZ2h0PSI4MHB4IiB2aWV3Qm94PSIwIDAgODAgODAiIHZlcnNpb249IjEuMSIgeG1sbnM9Imh0dHA6Ly93d3cudzMub3JnLzIwMDAvc3ZnIiB4bWxuczp4bGluaz0iaHR0cDovL3d3dy53My5vcmcvMTk5OS94bGluayI+CiAgICA8IS0tIEdlbmVyYXRvcjogU2tldGNoIDU0LjEgKDc2NDkwKSAtIGh0dHBzOi8vc2tldGNoYXBwLmNvbSAtLT4KICAgIDx0aXRsZT5Hcm91cCAzPC90aXRsZT4KICAgIDxkZXNjPkNyZWF0ZWQgd2l0aCBTa2V0Y2guPC9kZXNjPgogICAgPGcgaWQ9IkxhbmRpbmciIHN0cm9rZT0ibm9uZSIgc3Ryb2tlLXdpZHRoPSIxIiBmaWxsPSJub25lIiBmaWxsLXJ1bGU9ImV2ZW5vZGQiPgogICAgICAgIDxnIGlkPSJBcnRib2FyZCIgdHJhbnNmb3JtPSJ0cmFuc2xhdGUoLTEyMzUuMDAwMDAwLCAtNzkuMDAwMDAwKSI+CiAgICAgICAgICAgIDxnIGlkPSJHcm91cC0zIiB0cmFuc2Zvcm09InRyYW5zbGF0ZSgxMjM1LjAwMDAwMCwgNzkuMDAwMDAwKSI+CiAgICAgICAgICAgICAgICA8cG9seWdvbiBpZD0iUGF0aC0yMCIgZmlsbD0iIzAyNjVCNCIgcG9pbnRzPSIyLjM3NjIzNzYyIDgwIDM4LjA0NzY2NjcgODAgNTcuODIxNzgyMiA3My44MDU3NTkyIDU3LjgyMTc4MjIgMzIuNzU5MjczOSAzOS4xNDAyMjc4IDMxLjY4MzE2ODMiPjwvcG9seWdvbj4KICAgICAgICAgICAgICAgIDxwYXRoIGQ9Ik0zNS4wMDc3MTgsODAgQzQyLjkwNjIwMDcsNzYuNDU0OTM1OCA0Ny41NjQ5MTY3LDcxLjU0MjI2NzEgNDguOTgzODY2LDY1LjI2MTk5MzkgQzUxLjExMjI4OTksNTUuODQxNTg0MiA0MS42NzcxNzk1LDQ5LjIxMjIyODQgMjUuNjIzOTg0Niw0OS4yMTIyMjg0IEMyNS40ODQ5Mjg5LDQ5LjEyNjg0NDggMjkuODI2MTI5Niw0My4yODM4MjQ4IDM4LjY0NzU4NjksMzEuNjgzMTY4MyBMNzIuODcxMjg3MSwzMi41NTQ0MjUgTDY1LjI4MDk3Myw2Ny42NzYzNDIxIEw1MS4xMTIyODk5LDc3LjM3NjE0NCBMMzUuMDA3NzE4LDgwIFoiIGlkPSJQYXRoLTIyIiBmaWxsPSIjMDAyODY4Ij48L3BhdGg+CiAgICAgICAgICAgICAgICA8cGF0aCBkPSJNMCwzNy43MzA0NDA1IEwyNy4xMTQ1MzcsMC4yNTcxMTE0MzYgQzYyLjM3MTUxMjMsLTEuOTkwNzE3MDEgODAsMTAuNTAwMzkyNyA4MCwzNy43MzA0NDA1IEM4MCw2NC45NjA0ODgyIDY0Ljc3NjUwMzgsNzkuMDUwMzQxNCAzNC4zMjk1MTEzLDgwIEM0Ny4wNTUzNDg5LDc3LjU2NzA4MDggNTMuNDE4MjY3Nyw3MC4zMTM2MTAzIDUzLjQxODI2NzcsNTguMjM5NTg4NSBDNTMuNDE4MjY3Nyw0MC4xMjg1NTU3IDM2LjMwMzk1NDQsMzcuNzMwNDQwNSAyNS4yMjc0MTcsMzcuNzMwNDQwNSBDMTcuODQzMDU4NiwzNy43MzA0NDA1IDkuNDMzOTE5NjYsMzcuNzMwNDQwNSAwLDM3LjczMDQ0MDUgWiIgaWQ9IlBhdGgtMTkiIGZpbGw9IiMzNzkzRUYiPjwvcGF0aD4KICAgICAgICAgICAgPC9nPgogICAgICAgIDwvZz4KICAgIDwvZz4KPC9zdmc+' > </img>\n",
    "Created in <span style='font-weight:600;margin-left:4px;'>Deepnote</span></a>"
   ]
  }
 ],
 "metadata": {
  "deepnote": {},
  "deepnote_execution_queue": [],
  "deepnote_notebook_id": "f63d38450a6b464c9bb6385cf11db4d9",
  "deepnote_persisted_session": {
   "createdAt": "2023-11-09T16:18:30.203Z"
  },
  "kernelspec": {
   "display_name": "Python 3 (ipykernel)",
   "language": "python",
   "name": "python3"
  },
  "language_info": {
   "codemirror_mode": {
    "name": "ipython",
    "version": 3
   },
   "file_extension": ".py",
   "mimetype": "text/x-python",
   "name": "python",
   "nbconvert_exporter": "python",
   "pygments_lexer": "ipython3",
   "version": "3.11.3"
  }
 },
 "nbformat": 4,
 "nbformat_minor": 1
}
